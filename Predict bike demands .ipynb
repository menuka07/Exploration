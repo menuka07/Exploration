{
 "cells": [
  {
   "cell_type": "code",
   "execution_count": 10,
   "metadata": {},
   "outputs": [],
   "source": [
    "#import some necessary librairies\n",
    "\n",
    "import numpy as np # linear algebra\n",
    "import pandas as pd # data processing, CSV file I/O (e.g. pd.read_csv)\n",
    "\n",
    "\n",
    "import matplotlib.pyplot as plt  # Matlab-style plotting\n",
    "%matplotlib inline\n",
    "\n",
    "import seaborn as sns\n",
    "color = sns.color_palette()\n",
    "sns.set_style('darkgrid')\n",
    "\n",
    "import warnings\n",
    "warnings.filterwarnings('ignore')\n",
    "\n",
    "\n",
    "from scipy import stats\n",
    "from scipy.stats import norm, skew #for some statistics\n",
    "\n",
    "from sklearn.model_selection import train_test_split\n",
    "\n",
    "\n",
    "pd.set_option('display.float_format', lambda x: '{:.3f}'.format(x)) #Limiting floats output to 3 decimal points\n",
    "\n"
   ]
  },
  {
   "cell_type": "code",
   "execution_count": 45,
   "metadata": {},
   "outputs": [
    {
     "name": "stdout",
     "output_type": "stream",
     "text": [
      "<class 'pandas.core.frame.DataFrame'>\n",
      "RangeIndex: 76 entries, 0 to 75\n",
      "Data columns (total 6 columns):\n",
      "Id            76 non-null int64\n",
      "Name          76 non-null object\n",
      "Lat           76 non-null float64\n",
      "Long          76 non-null float64\n",
      "Dock Count    76 non-null int64\n",
      "City          76 non-null object\n",
      "dtypes: float64(2), int64(2), object(2)\n",
      "memory usage: 3.6+ KB\n"
     ]
    }
   ],
   "source": [
    "#Import and put the dataset in  pandas dataframe\n",
    "\n",
    "station_data = pd.read_csv('bikes_data_only/data/station_data.csv')\n",
    "station_data.info() #No missing values here"
   ]
  },
  {
   "cell_type": "code",
   "execution_count": 48,
   "metadata": {},
   "outputs": [
    {
     "data": {
      "text/html": [
       "<div>\n",
       "<style scoped>\n",
       "    .dataframe tbody tr th:only-of-type {\n",
       "        vertical-align: middle;\n",
       "    }\n",
       "\n",
       "    .dataframe tbody tr th {\n",
       "        vertical-align: top;\n",
       "    }\n",
       "\n",
       "    .dataframe thead th {\n",
       "        text-align: right;\n",
       "    }\n",
       "</style>\n",
       "<table border=\"1\" class=\"dataframe\">\n",
       "  <thead>\n",
       "    <tr style=\"text-align: right;\">\n",
       "      <th></th>\n",
       "      <th>Id</th>\n",
       "      <th>Name</th>\n",
       "      <th>Lat</th>\n",
       "      <th>Long</th>\n",
       "      <th>Dock Count</th>\n",
       "      <th>City</th>\n",
       "    </tr>\n",
       "  </thead>\n",
       "  <tbody>\n",
       "    <tr>\n",
       "      <th>0</th>\n",
       "      <td>2</td>\n",
       "      <td>San Jose Diridon Caltrain Station</td>\n",
       "      <td>37.330</td>\n",
       "      <td>-121.902</td>\n",
       "      <td>27</td>\n",
       "      <td>San Jose</td>\n",
       "    </tr>\n",
       "    <tr>\n",
       "      <th>1</th>\n",
       "      <td>3</td>\n",
       "      <td>San Jose Civic Center</td>\n",
       "      <td>37.331</td>\n",
       "      <td>-121.889</td>\n",
       "      <td>15</td>\n",
       "      <td>San Jose</td>\n",
       "    </tr>\n",
       "    <tr>\n",
       "      <th>2</th>\n",
       "      <td>4</td>\n",
       "      <td>Santa Clara at Almaden</td>\n",
       "      <td>37.334</td>\n",
       "      <td>-121.895</td>\n",
       "      <td>11</td>\n",
       "      <td>San Jose</td>\n",
       "    </tr>\n",
       "    <tr>\n",
       "      <th>3</th>\n",
       "      <td>5</td>\n",
       "      <td>Adobe on Almaden</td>\n",
       "      <td>37.331</td>\n",
       "      <td>-121.893</td>\n",
       "      <td>19</td>\n",
       "      <td>San Jose</td>\n",
       "    </tr>\n",
       "    <tr>\n",
       "      <th>4</th>\n",
       "      <td>6</td>\n",
       "      <td>San Pedro Square</td>\n",
       "      <td>37.337</td>\n",
       "      <td>-121.894</td>\n",
       "      <td>15</td>\n",
       "      <td>San Jose</td>\n",
       "    </tr>\n",
       "  </tbody>\n",
       "</table>\n",
       "</div>"
      ],
      "text/plain": [
       "   Id                               Name    Lat     Long  Dock Count      City\n",
       "0   2  San Jose Diridon Caltrain Station 37.330 -121.902          27  San Jose\n",
       "1   3              San Jose Civic Center 37.331 -121.889          15  San Jose\n",
       "2   4             Santa Clara at Almaden 37.334 -121.895          11  San Jose\n",
       "3   5                   Adobe on Almaden 37.331 -121.893          19  San Jose\n",
       "4   6                   San Pedro Square 37.337 -121.894          15  San Jose"
      ]
     },
     "execution_count": 48,
     "metadata": {},
     "output_type": "execute_result"
    }
   ],
   "source": [
    "station_data.head()"
   ]
  },
  {
   "cell_type": "code",
   "execution_count": 192,
   "metadata": {},
   "outputs": [
    {
     "data": {
      "text/html": [
       "<div>\n",
       "<style scoped>\n",
       "    .dataframe tbody tr th:only-of-type {\n",
       "        vertical-align: middle;\n",
       "    }\n",
       "\n",
       "    .dataframe tbody tr th {\n",
       "        vertical-align: top;\n",
       "    }\n",
       "\n",
       "    .dataframe thead th {\n",
       "        text-align: right;\n",
       "    }\n",
       "</style>\n",
       "<table border=\"1\" class=\"dataframe\">\n",
       "  <thead>\n",
       "    <tr style=\"text-align: right;\">\n",
       "      <th></th>\n",
       "      <th>Id</th>\n",
       "      <th>Dock Count</th>\n",
       "      <th>City</th>\n",
       "    </tr>\n",
       "  </thead>\n",
       "  <tbody>\n",
       "    <tr>\n",
       "      <th>0</th>\n",
       "      <td>2</td>\n",
       "      <td>27</td>\n",
       "      <td>San Jose</td>\n",
       "    </tr>\n",
       "    <tr>\n",
       "      <th>1</th>\n",
       "      <td>3</td>\n",
       "      <td>15</td>\n",
       "      <td>San Jose</td>\n",
       "    </tr>\n",
       "    <tr>\n",
       "      <th>2</th>\n",
       "      <td>4</td>\n",
       "      <td>11</td>\n",
       "      <td>San Jose</td>\n",
       "    </tr>\n",
       "    <tr>\n",
       "      <th>3</th>\n",
       "      <td>5</td>\n",
       "      <td>19</td>\n",
       "      <td>San Jose</td>\n",
       "    </tr>\n",
       "    <tr>\n",
       "      <th>4</th>\n",
       "      <td>6</td>\n",
       "      <td>15</td>\n",
       "      <td>San Jose</td>\n",
       "    </tr>\n",
       "  </tbody>\n",
       "</table>\n",
       "</div>"
      ],
      "text/plain": [
       "   Id  Dock Count      City\n",
       "0   2          27  San Jose\n",
       "1   3          15  San Jose\n",
       "2   4          11  San Jose\n",
       "3   5          19  San Jose\n",
       "4   6          15  San Jose"
      ]
     },
     "execution_count": 192,
     "metadata": {},
     "output_type": "execute_result"
    }
   ],
   "source": [
    "# Removing name, lat, long from data as it might not be helpful for prediction since the id will be correlated with these fields\n",
    "\n",
    "filter_data_from_station= station_data.loc[:,['Id','Dock Count','City']]\n",
    "filter_data_from_station.head()"
   ]
  },
  {
   "cell_type": "code",
   "execution_count": 163,
   "metadata": {},
   "outputs": [
    {
     "name": "stdout",
     "output_type": "stream",
     "text": [
      "<class 'pandas.core.frame.DataFrame'>\n",
      "RangeIndex: 354152 entries, 0 to 354151\n",
      "Data columns (total 6 columns):\n",
      "Trip ID            354152 non-null int64\n",
      "Start Date         354152 non-null object\n",
      "Start Station      354152 non-null int64\n",
      "End Date           354152 non-null object\n",
      "End Station        354152 non-null int64\n",
      "Subscriber Type    354152 non-null object\n",
      "dtypes: int64(3), object(3)\n",
      "memory usage: 16.2+ MB\n"
     ]
    }
   ],
   "source": [
    "# Read trips data as pandas dataframe\n",
    "trip_data = pd.read_csv('bikes_data_only/data/trip_data.csv')\n",
    "trip_data.info() #No missing values here too"
   ]
  },
  {
   "cell_type": "code",
   "execution_count": 164,
   "metadata": {},
   "outputs": [
    {
     "data": {
      "text/html": [
       "<div>\n",
       "<style scoped>\n",
       "    .dataframe tbody tr th:only-of-type {\n",
       "        vertical-align: middle;\n",
       "    }\n",
       "\n",
       "    .dataframe tbody tr th {\n",
       "        vertical-align: top;\n",
       "    }\n",
       "\n",
       "    .dataframe thead th {\n",
       "        text-align: right;\n",
       "    }\n",
       "</style>\n",
       "<table border=\"1\" class=\"dataframe\">\n",
       "  <thead>\n",
       "    <tr style=\"text-align: right;\">\n",
       "      <th></th>\n",
       "      <th>Trip ID</th>\n",
       "      <th>Start Date</th>\n",
       "      <th>Start Station</th>\n",
       "      <th>End Date</th>\n",
       "      <th>End Station</th>\n",
       "      <th>Subscriber Type</th>\n",
       "    </tr>\n",
       "  </thead>\n",
       "  <tbody>\n",
       "    <tr>\n",
       "      <th>0</th>\n",
       "      <td>913460</td>\n",
       "      <td>31/08/2015 23:26</td>\n",
       "      <td>50</td>\n",
       "      <td>31/08/2015 23:39</td>\n",
       "      <td>70</td>\n",
       "      <td>Subscriber</td>\n",
       "    </tr>\n",
       "    <tr>\n",
       "      <th>1</th>\n",
       "      <td>913459</td>\n",
       "      <td>31/08/2015 23:11</td>\n",
       "      <td>31</td>\n",
       "      <td>31/08/2015 23:28</td>\n",
       "      <td>27</td>\n",
       "      <td>Subscriber</td>\n",
       "    </tr>\n",
       "    <tr>\n",
       "      <th>2</th>\n",
       "      <td>913455</td>\n",
       "      <td>31/08/2015 23:13</td>\n",
       "      <td>47</td>\n",
       "      <td>31/08/2015 23:18</td>\n",
       "      <td>64</td>\n",
       "      <td>Subscriber</td>\n",
       "    </tr>\n",
       "    <tr>\n",
       "      <th>3</th>\n",
       "      <td>913454</td>\n",
       "      <td>31/08/2015 23:10</td>\n",
       "      <td>10</td>\n",
       "      <td>31/08/2015 23:17</td>\n",
       "      <td>8</td>\n",
       "      <td>Subscriber</td>\n",
       "    </tr>\n",
       "    <tr>\n",
       "      <th>4</th>\n",
       "      <td>913453</td>\n",
       "      <td>31/08/2015 23:09</td>\n",
       "      <td>51</td>\n",
       "      <td>31/08/2015 23:22</td>\n",
       "      <td>60</td>\n",
       "      <td>Customer</td>\n",
       "    </tr>\n",
       "  </tbody>\n",
       "</table>\n",
       "</div>"
      ],
      "text/plain": [
       "   Trip ID        Start Date  Start Station          End Date  End Station  \\\n",
       "0   913460  31/08/2015 23:26             50  31/08/2015 23:39           70   \n",
       "1   913459  31/08/2015 23:11             31  31/08/2015 23:28           27   \n",
       "2   913455  31/08/2015 23:13             47  31/08/2015 23:18           64   \n",
       "3   913454  31/08/2015 23:10             10  31/08/2015 23:17            8   \n",
       "4   913453  31/08/2015 23:09             51  31/08/2015 23:22           60   \n",
       "\n",
       "  Subscriber Type  \n",
       "0      Subscriber  \n",
       "1      Subscriber  \n",
       "2      Subscriber  \n",
       "3      Subscriber  \n",
       "4        Customer  "
      ]
     },
     "execution_count": 164,
     "metadata": {},
     "output_type": "execute_result"
    }
   ],
   "source": [
    "trip_data.head()"
   ]
  },
  {
   "cell_type": "code",
   "execution_count": 211,
   "metadata": {},
   "outputs": [
    {
     "data": {
      "text/html": [
       "<div>\n",
       "<style scoped>\n",
       "    .dataframe tbody tr th:only-of-type {\n",
       "        vertical-align: middle;\n",
       "    }\n",
       "\n",
       "    .dataframe tbody tr th {\n",
       "        vertical-align: top;\n",
       "    }\n",
       "\n",
       "    .dataframe thead th {\n",
       "        text-align: right;\n",
       "    }\n",
       "</style>\n",
       "<table border=\"1\" class=\"dataframe\">\n",
       "  <thead>\n",
       "    <tr style=\"text-align: right;\">\n",
       "      <th></th>\n",
       "      <th>Id</th>\n",
       "      <th>Dock Count</th>\n",
       "      <th>City</th>\n",
       "      <th>Trip ID</th>\n",
       "      <th>Start Date</th>\n",
       "      <th>Start Station</th>\n",
       "      <th>End Date</th>\n",
       "      <th>End Station</th>\n",
       "      <th>Subscriber Type</th>\n",
       "    </tr>\n",
       "  </thead>\n",
       "  <tbody>\n",
       "    <tr>\n",
       "      <th>0</th>\n",
       "      <td>2</td>\n",
       "      <td>27</td>\n",
       "      <td>San Jose</td>\n",
       "      <td>913217</td>\n",
       "      <td>31/08/2015 18:43</td>\n",
       "      <td>2</td>\n",
       "      <td>31/08/2015 18:56</td>\n",
       "      <td>16</td>\n",
       "      <td>Subscriber</td>\n",
       "    </tr>\n",
       "    <tr>\n",
       "      <th>1</th>\n",
       "      <td>2</td>\n",
       "      <td>27</td>\n",
       "      <td>San Jose</td>\n",
       "      <td>913216</td>\n",
       "      <td>31/08/2015 18:41</td>\n",
       "      <td>2</td>\n",
       "      <td>31/08/2015 18:51</td>\n",
       "      <td>84</td>\n",
       "      <td>Subscriber</td>\n",
       "    </tr>\n",
       "    <tr>\n",
       "      <th>2</th>\n",
       "      <td>2</td>\n",
       "      <td>27</td>\n",
       "      <td>San Jose</td>\n",
       "      <td>913203</td>\n",
       "      <td>31/08/2015 18:36</td>\n",
       "      <td>2</td>\n",
       "      <td>31/08/2015 18:44</td>\n",
       "      <td>7</td>\n",
       "      <td>Subscriber</td>\n",
       "    </tr>\n",
       "    <tr>\n",
       "      <th>3</th>\n",
       "      <td>2</td>\n",
       "      <td>27</td>\n",
       "      <td>San Jose</td>\n",
       "      <td>913202</td>\n",
       "      <td>31/08/2015 18:36</td>\n",
       "      <td>2</td>\n",
       "      <td>31/08/2015 18:44</td>\n",
       "      <td>7</td>\n",
       "      <td>Subscriber</td>\n",
       "    </tr>\n",
       "    <tr>\n",
       "      <th>4</th>\n",
       "      <td>2</td>\n",
       "      <td>27</td>\n",
       "      <td>San Jose</td>\n",
       "      <td>913112</td>\n",
       "      <td>31/08/2015 18:03</td>\n",
       "      <td>2</td>\n",
       "      <td>31/08/2015 18:08</td>\n",
       "      <td>4</td>\n",
       "      <td>Subscriber</td>\n",
       "    </tr>\n",
       "  </tbody>\n",
       "</table>\n",
       "</div>"
      ],
      "text/plain": [
       "   Id  Dock Count      City  Trip ID        Start Date  Start Station  \\\n",
       "0   2          27  San Jose   913217  31/08/2015 18:43              2   \n",
       "1   2          27  San Jose   913216  31/08/2015 18:41              2   \n",
       "2   2          27  San Jose   913203  31/08/2015 18:36              2   \n",
       "3   2          27  San Jose   913202  31/08/2015 18:36              2   \n",
       "4   2          27  San Jose   913112  31/08/2015 18:03              2   \n",
       "\n",
       "           End Date  End Station Subscriber Type  \n",
       "0  31/08/2015 18:56           16      Subscriber  \n",
       "1  31/08/2015 18:51           84      Subscriber  \n",
       "2  31/08/2015 18:44            7      Subscriber  \n",
       "3  31/08/2015 18:44            7      Subscriber  \n",
       "4  31/08/2015 18:08            4      Subscriber  "
      ]
     },
     "execution_count": 211,
     "metadata": {},
     "output_type": "execute_result"
    }
   ],
   "source": [
    "\n",
    "merged_trip_start_station_data = filter_data_from_station.merge(trip_data, how='left', left_on='Id', right_on='Start Station' )\n",
    "merged_trip_start_station_data.head()\n",
    "\n"
   ]
  },
  {
   "cell_type": "code",
   "execution_count": 212,
   "metadata": {},
   "outputs": [],
   "source": [
    "merged_trip_start_station_data[\"hour\"] = pd.DatetimeIndex(merged_trip_start_station_data['Start Date']).hour\n",
    "merged_trip_start_station_data[\"month\"] = pd.DatetimeIndex(merged_trip_start_station_data['Start Date']).month\n",
    "merged_trip_start_station_data[\"day\"] = pd.DatetimeIndex(merged_trip_start_station_data['Start Date']).dayofweek\n",
    "merged_trip_start_station_data[\"year\"] = pd.DatetimeIndex(merged_trip_start_station_data['Start Date']).year\n"
   ]
  },
  {
   "cell_type": "code",
   "execution_count": 213,
   "metadata": {},
   "outputs": [],
   "source": [
    "merged_trip_start_station_data[\"date\"] = pd.DatetimeIndex(merged_trip_start_station_data['Start Date']).date\n",
    "merged_trip_start_station_data['date'] = pd.to_datetime(merged_trip_start_station_data['date'])"
   ]
  },
  {
   "cell_type": "code",
   "execution_count": 214,
   "metadata": {},
   "outputs": [
    {
     "data": {
      "text/html": [
       "<div>\n",
       "<style scoped>\n",
       "    .dataframe tbody tr th:only-of-type {\n",
       "        vertical-align: middle;\n",
       "    }\n",
       "\n",
       "    .dataframe tbody tr th {\n",
       "        vertical-align: top;\n",
       "    }\n",
       "\n",
       "    .dataframe thead th {\n",
       "        text-align: right;\n",
       "    }\n",
       "</style>\n",
       "<table border=\"1\" class=\"dataframe\">\n",
       "  <thead>\n",
       "    <tr style=\"text-align: right;\">\n",
       "      <th></th>\n",
       "      <th>Id</th>\n",
       "      <th>Dock Count</th>\n",
       "      <th>City</th>\n",
       "      <th>Trip ID</th>\n",
       "      <th>Start Date</th>\n",
       "      <th>Start Station</th>\n",
       "      <th>End Date</th>\n",
       "      <th>End Station</th>\n",
       "      <th>Subscriber Type</th>\n",
       "      <th>hour</th>\n",
       "      <th>month</th>\n",
       "      <th>day</th>\n",
       "      <th>year</th>\n",
       "      <th>date</th>\n",
       "    </tr>\n",
       "  </thead>\n",
       "  <tbody>\n",
       "    <tr>\n",
       "      <th>0</th>\n",
       "      <td>2</td>\n",
       "      <td>27</td>\n",
       "      <td>San Jose</td>\n",
       "      <td>913217</td>\n",
       "      <td>31/08/2015 18:43</td>\n",
       "      <td>2</td>\n",
       "      <td>31/08/2015 18:56</td>\n",
       "      <td>16</td>\n",
       "      <td>Subscriber</td>\n",
       "      <td>18</td>\n",
       "      <td>8</td>\n",
       "      <td>0</td>\n",
       "      <td>2015</td>\n",
       "      <td>2015-08-31</td>\n",
       "    </tr>\n",
       "    <tr>\n",
       "      <th>1</th>\n",
       "      <td>2</td>\n",
       "      <td>27</td>\n",
       "      <td>San Jose</td>\n",
       "      <td>913216</td>\n",
       "      <td>31/08/2015 18:41</td>\n",
       "      <td>2</td>\n",
       "      <td>31/08/2015 18:51</td>\n",
       "      <td>84</td>\n",
       "      <td>Subscriber</td>\n",
       "      <td>18</td>\n",
       "      <td>8</td>\n",
       "      <td>0</td>\n",
       "      <td>2015</td>\n",
       "      <td>2015-08-31</td>\n",
       "    </tr>\n",
       "    <tr>\n",
       "      <th>2</th>\n",
       "      <td>2</td>\n",
       "      <td>27</td>\n",
       "      <td>San Jose</td>\n",
       "      <td>913203</td>\n",
       "      <td>31/08/2015 18:36</td>\n",
       "      <td>2</td>\n",
       "      <td>31/08/2015 18:44</td>\n",
       "      <td>7</td>\n",
       "      <td>Subscriber</td>\n",
       "      <td>18</td>\n",
       "      <td>8</td>\n",
       "      <td>0</td>\n",
       "      <td>2015</td>\n",
       "      <td>2015-08-31</td>\n",
       "    </tr>\n",
       "    <tr>\n",
       "      <th>3</th>\n",
       "      <td>2</td>\n",
       "      <td>27</td>\n",
       "      <td>San Jose</td>\n",
       "      <td>913202</td>\n",
       "      <td>31/08/2015 18:36</td>\n",
       "      <td>2</td>\n",
       "      <td>31/08/2015 18:44</td>\n",
       "      <td>7</td>\n",
       "      <td>Subscriber</td>\n",
       "      <td>18</td>\n",
       "      <td>8</td>\n",
       "      <td>0</td>\n",
       "      <td>2015</td>\n",
       "      <td>2015-08-31</td>\n",
       "    </tr>\n",
       "    <tr>\n",
       "      <th>4</th>\n",
       "      <td>2</td>\n",
       "      <td>27</td>\n",
       "      <td>San Jose</td>\n",
       "      <td>913112</td>\n",
       "      <td>31/08/2015 18:03</td>\n",
       "      <td>2</td>\n",
       "      <td>31/08/2015 18:08</td>\n",
       "      <td>4</td>\n",
       "      <td>Subscriber</td>\n",
       "      <td>18</td>\n",
       "      <td>8</td>\n",
       "      <td>0</td>\n",
       "      <td>2015</td>\n",
       "      <td>2015-08-31</td>\n",
       "    </tr>\n",
       "  </tbody>\n",
       "</table>\n",
       "</div>"
      ],
      "text/plain": [
       "   Id  Dock Count      City  Trip ID        Start Date  Start Station  \\\n",
       "0   2          27  San Jose   913217  31/08/2015 18:43              2   \n",
       "1   2          27  San Jose   913216  31/08/2015 18:41              2   \n",
       "2   2          27  San Jose   913203  31/08/2015 18:36              2   \n",
       "3   2          27  San Jose   913202  31/08/2015 18:36              2   \n",
       "4   2          27  San Jose   913112  31/08/2015 18:03              2   \n",
       "\n",
       "           End Date  End Station Subscriber Type  hour  month  day  year  \\\n",
       "0  31/08/2015 18:56           16      Subscriber    18      8    0  2015   \n",
       "1  31/08/2015 18:51           84      Subscriber    18      8    0  2015   \n",
       "2  31/08/2015 18:44            7      Subscriber    18      8    0  2015   \n",
       "3  31/08/2015 18:44            7      Subscriber    18      8    0  2015   \n",
       "4  31/08/2015 18:08            4      Subscriber    18      8    0  2015   \n",
       "\n",
       "        date  \n",
       "0 2015-08-31  \n",
       "1 2015-08-31  \n",
       "2 2015-08-31  \n",
       "3 2015-08-31  \n",
       "4 2015-08-31  "
      ]
     },
     "execution_count": 214,
     "metadata": {},
     "output_type": "execute_result"
    }
   ],
   "source": [
    "merged_trip_start_station_data.head()"
   ]
  },
  {
   "cell_type": "code",
   "execution_count": 215,
   "metadata": {},
   "outputs": [
    {
     "name": "stdout",
     "output_type": "stream",
     "text": [
      "<class 'pandas.core.frame.DataFrame'>\n",
      "Int64Index: 354152 entries, 0 to 354151\n",
      "Data columns (total 14 columns):\n",
      "Id                 354152 non-null int64\n",
      "Dock Count         354152 non-null int64\n",
      "City               354152 non-null object\n",
      "Trip ID            354152 non-null int64\n",
      "Start Date         354152 non-null object\n",
      "Start Station      354152 non-null int64\n",
      "End Date           354152 non-null object\n",
      "End Station        354152 non-null int64\n",
      "Subscriber Type    354152 non-null object\n",
      "hour               354152 non-null int64\n",
      "month              354152 non-null int64\n",
      "day                354152 non-null int64\n",
      "year               354152 non-null int64\n",
      "date               354152 non-null datetime64[ns]\n",
      "dtypes: datetime64[ns](1), int64(9), object(4)\n",
      "memory usage: 40.5+ MB\n"
     ]
    }
   ],
   "source": [
    "merged_trip_start_station_data.info()"
   ]
  },
  {
   "cell_type": "code",
   "execution_count": 216,
   "metadata": {},
   "outputs": [
    {
     "data": {
      "text/html": [
       "<div>\n",
       "<style scoped>\n",
       "    .dataframe tbody tr th:only-of-type {\n",
       "        vertical-align: middle;\n",
       "    }\n",
       "\n",
       "    .dataframe tbody tr th {\n",
       "        vertical-align: top;\n",
       "    }\n",
       "\n",
       "    .dataframe thead th {\n",
       "        text-align: right;\n",
       "    }\n",
       "</style>\n",
       "<table border=\"1\" class=\"dataframe\">\n",
       "  <thead>\n",
       "    <tr style=\"text-align: right;\">\n",
       "      <th></th>\n",
       "      <th>Id</th>\n",
       "      <th>date</th>\n",
       "      <th>day</th>\n",
       "      <th>hour</th>\n",
       "      <th>outgoing_bikes</th>\n",
       "    </tr>\n",
       "  </thead>\n",
       "  <tbody>\n",
       "    <tr>\n",
       "      <th>0</th>\n",
       "      <td>2</td>\n",
       "      <td>2014-01-09</td>\n",
       "      <td>3</td>\n",
       "      <td>12</td>\n",
       "      <td>1</td>\n",
       "    </tr>\n",
       "    <tr>\n",
       "      <th>1</th>\n",
       "      <td>2</td>\n",
       "      <td>2014-01-09</td>\n",
       "      <td>3</td>\n",
       "      <td>21</td>\n",
       "      <td>4</td>\n",
       "    </tr>\n",
       "    <tr>\n",
       "      <th>2</th>\n",
       "      <td>2</td>\n",
       "      <td>2014-01-09</td>\n",
       "      <td>3</td>\n",
       "      <td>22</td>\n",
       "      <td>1</td>\n",
       "    </tr>\n",
       "    <tr>\n",
       "      <th>3</th>\n",
       "      <td>2</td>\n",
       "      <td>2014-01-10</td>\n",
       "      <td>4</td>\n",
       "      <td>6</td>\n",
       "      <td>1</td>\n",
       "    </tr>\n",
       "    <tr>\n",
       "      <th>4</th>\n",
       "      <td>2</td>\n",
       "      <td>2014-01-10</td>\n",
       "      <td>4</td>\n",
       "      <td>7</td>\n",
       "      <td>3</td>\n",
       "    </tr>\n",
       "  </tbody>\n",
       "</table>\n",
       "</div>"
      ],
      "text/plain": [
       "   Id       date  day  hour  outgoing_bikes\n",
       "0   2 2014-01-09    3    12               1\n",
       "1   2 2014-01-09    3    21               4\n",
       "2   2 2014-01-09    3    22               1\n",
       "3   2 2014-01-10    4     6               1\n",
       "4   2 2014-01-10    4     7               3"
      ]
     },
     "execution_count": 216,
     "metadata": {},
     "output_type": "execute_result"
    }
   ],
   "source": [
    "df1 = merged_trip_start_station_data.groupby(['Id','date' ,'day','hour']).size()\n",
    "df1 = df1.to_frame()\n",
    "df1.reset_index(inplace=True)\n",
    "df1.columns=['Id', 'date','day','hour','outgoing_bikes']\n",
    "df1.head()"
   ]
  },
  {
   "cell_type": "code",
   "execution_count": 217,
   "metadata": {},
   "outputs": [
    {
     "data": {
      "text/plain": [
       "<matplotlib.axes._subplots.AxesSubplot at 0x1a51444ef0>"
      ]
     },
     "execution_count": 217,
     "metadata": {},
     "output_type": "execute_result"
    },
    {
     "data": {
      "image/png": "[encoded data removed]",
      "text/plain": [
       "<Figure size 432x288 with 1 Axes>"
      ]
     },
     "metadata": {},
     "output_type": "display_data"
    }
   ],
   "source": [
    "sns.distplot(df1[\"outgoing_bikes\"])"
   ]
  },
  {
   "cell_type": "code",
   "execution_count": 218,
   "metadata": {},
   "outputs": [
    {
     "data": {
      "image/png": "[encoded data removed]",
      "text/plain": [
       "<Figure size 2520x360 with 7 Axes>"
      ]
     },
     "metadata": {},
     "output_type": "display_data"
    }
   ],
   "source": [
    "import seaborn as sns\n",
    "g = sns.catplot(x=\"hour\",y=\"outgoing_bikes\", col='day', data=df1, kind=\"bar\", size=5, palette = \"muted\")\n",
    "# There is a pattern between weekday and weekend. Can create new feature of weekday and weekened to make the data richer"
   ]
  },
  {
   "cell_type": "code",
   "execution_count": 220,
   "metadata": {},
   "outputs": [
    {
     "data": {
      "text/html": [
       "<div>\n",
       "<style scoped>\n",
       "    .dataframe tbody tr th:only-of-type {\n",
       "        vertical-align: middle;\n",
       "    }\n",
       "\n",
       "    .dataframe tbody tr th {\n",
       "        vertical-align: top;\n",
       "    }\n",
       "\n",
       "    .dataframe thead th {\n",
       "        text-align: right;\n",
       "    }\n",
       "</style>\n",
       "<table border=\"1\" class=\"dataframe\">\n",
       "  <thead>\n",
       "    <tr style=\"text-align: right;\">\n",
       "      <th></th>\n",
       "      <th>Id</th>\n",
       "      <th>date</th>\n",
       "      <th>day</th>\n",
       "      <th>count_of_hours</th>\n",
       "    </tr>\n",
       "  </thead>\n",
       "  <tbody>\n",
       "    <tr>\n",
       "      <th>0</th>\n",
       "      <td>2</td>\n",
       "      <td>2014-01-09</td>\n",
       "      <td>3</td>\n",
       "      <td>3</td>\n",
       "    </tr>\n",
       "    <tr>\n",
       "      <th>1</th>\n",
       "      <td>2</td>\n",
       "      <td>2014-01-10</td>\n",
       "      <td>4</td>\n",
       "      <td>8</td>\n",
       "    </tr>\n",
       "    <tr>\n",
       "      <th>2</th>\n",
       "      <td>2</td>\n",
       "      <td>2014-01-11</td>\n",
       "      <td>5</td>\n",
       "      <td>4</td>\n",
       "    </tr>\n",
       "    <tr>\n",
       "      <th>3</th>\n",
       "      <td>2</td>\n",
       "      <td>2014-01-12</td>\n",
       "      <td>6</td>\n",
       "      <td>8</td>\n",
       "    </tr>\n",
       "    <tr>\n",
       "      <th>4</th>\n",
       "      <td>2</td>\n",
       "      <td>2014-02-09</td>\n",
       "      <td>6</td>\n",
       "      <td>8</td>\n",
       "    </tr>\n",
       "  </tbody>\n",
       "</table>\n",
       "</div>"
      ],
      "text/plain": [
       "   Id       date  day  count_of_hours\n",
       "0   2 2014-01-09    3               3\n",
       "1   2 2014-01-10    4               8\n",
       "2   2 2014-01-11    5               4\n",
       "3   2 2014-01-12    6               8\n",
       "4   2 2014-02-09    6               8"
      ]
     },
     "execution_count": 220,
     "metadata": {},
     "output_type": "execute_result"
    }
   ],
   "source": [
    "df2 = df1.groupby(['Id','date','day']).size()\n",
    "df2 = df2.to_frame()\n",
    "df2.reset_index(inplace=True)\n",
    "df2.columns=['Id','date' ,'day','count_of_hours']\n",
    "df2.head()"
   ]
  },
  {
   "cell_type": "code",
   "execution_count": 221,
   "metadata": {},
   "outputs": [
    {
     "data": {
      "image/png": "[encoded data removed]",
      "text/plain": [
       "<Figure size 432x288 with 1 Axes>"
      ]
     },
     "metadata": {},
     "output_type": "display_data"
    }
   ],
   "source": [
    "\n",
    "sns.distplot(df2[\"count_of_hours\"]);\n",
    "# There are many stations which do not have any trips starting from that station during many hours of the day"
   ]
  },
  {
   "cell_type": "markdown",
   "metadata": {},
   "source": [
    "## Endtrip stations"
   ]
  },
  {
   "cell_type": "code",
   "execution_count": 167,
   "metadata": {},
   "outputs": [
    {
     "data": {
      "text/html": [
       "<div>\n",
       "<style scoped>\n",
       "    .dataframe tbody tr th:only-of-type {\n",
       "        vertical-align: middle;\n",
       "    }\n",
       "\n",
       "    .dataframe tbody tr th {\n",
       "        vertical-align: top;\n",
       "    }\n",
       "\n",
       "    .dataframe thead th {\n",
       "        text-align: right;\n",
       "    }\n",
       "</style>\n",
       "<table border=\"1\" class=\"dataframe\">\n",
       "  <thead>\n",
       "    <tr style=\"text-align: right;\">\n",
       "      <th></th>\n",
       "      <th>Id</th>\n",
       "      <th>Dock Count</th>\n",
       "      <th>City</th>\n",
       "      <th>Trip ID</th>\n",
       "      <th>Start Date</th>\n",
       "      <th>Start Station</th>\n",
       "      <th>End Date</th>\n",
       "      <th>End Station</th>\n",
       "      <th>Subscriber Type</th>\n",
       "    </tr>\n",
       "  </thead>\n",
       "  <tbody>\n",
       "    <tr>\n",
       "      <th>0</th>\n",
       "      <td>2</td>\n",
       "      <td>27</td>\n",
       "      <td>San Jose</td>\n",
       "      <td>913134</td>\n",
       "      <td>31/08/2015 18:12</td>\n",
       "      <td>4</td>\n",
       "      <td>31/08/2015 18:16</td>\n",
       "      <td>2</td>\n",
       "      <td>Subscriber</td>\n",
       "    </tr>\n",
       "    <tr>\n",
       "      <th>1</th>\n",
       "      <td>2</td>\n",
       "      <td>27</td>\n",
       "      <td>San Jose</td>\n",
       "      <td>913118</td>\n",
       "      <td>31/08/2015 18:05</td>\n",
       "      <td>5</td>\n",
       "      <td>31/08/2015 18:10</td>\n",
       "      <td>2</td>\n",
       "      <td>Subscriber</td>\n",
       "    </tr>\n",
       "    <tr>\n",
       "      <th>2</th>\n",
       "      <td>2</td>\n",
       "      <td>27</td>\n",
       "      <td>San Jose</td>\n",
       "      <td>913111</td>\n",
       "      <td>31/08/2015 18:03</td>\n",
       "      <td>4</td>\n",
       "      <td>31/08/2015 18:08</td>\n",
       "      <td>2</td>\n",
       "      <td>Subscriber</td>\n",
       "    </tr>\n",
       "    <tr>\n",
       "      <th>3</th>\n",
       "      <td>2</td>\n",
       "      <td>27</td>\n",
       "      <td>San Jose</td>\n",
       "      <td>912960</td>\n",
       "      <td>31/08/2015 17:32</td>\n",
       "      <td>4</td>\n",
       "      <td>31/08/2015 17:36</td>\n",
       "      <td>2</td>\n",
       "      <td>Subscriber</td>\n",
       "    </tr>\n",
       "    <tr>\n",
       "      <th>4</th>\n",
       "      <td>2</td>\n",
       "      <td>27</td>\n",
       "      <td>San Jose</td>\n",
       "      <td>912918</td>\n",
       "      <td>31/08/2015 17:19</td>\n",
       "      <td>6</td>\n",
       "      <td>31/08/2015 17:26</td>\n",
       "      <td>2</td>\n",
       "      <td>Subscriber</td>\n",
       "    </tr>\n",
       "  </tbody>\n",
       "</table>\n",
       "</div>"
      ],
      "text/plain": [
       "   Id  Dock Count      City  Trip ID        Start Date  Start Station  \\\n",
       "0   2          27  San Jose   913134  31/08/2015 18:12              4   \n",
       "1   2          27  San Jose   913118  31/08/2015 18:05              5   \n",
       "2   2          27  San Jose   913111  31/08/2015 18:03              4   \n",
       "3   2          27  San Jose   912960  31/08/2015 17:32              4   \n",
       "4   2          27  San Jose   912918  31/08/2015 17:19              6   \n",
       "\n",
       "           End Date  End Station Subscriber Type  \n",
       "0  31/08/2015 18:16            2      Subscriber  \n",
       "1  31/08/2015 18:10            2      Subscriber  \n",
       "2  31/08/2015 18:08            2      Subscriber  \n",
       "3  31/08/2015 17:36            2      Subscriber  \n",
       "4  31/08/2015 17:26            2      Subscriber  "
      ]
     },
     "execution_count": 167,
     "metadata": {},
     "output_type": "execute_result"
    }
   ],
   "source": [
    "\n",
    "merged_trip_end_station_data = filter_data_from_station.merge(trip_data, how='left', left_on='Id', right_on='End Station' )\n",
    "merged_trip_end_station_data.head()\n"
   ]
  },
  {
   "cell_type": "code",
   "execution_count": 169,
   "metadata": {},
   "outputs": [],
   "source": [
    "merged_trip_end_station_data[\"hour\"] = pd.DatetimeIndex(merged_trip_end_station_data['End Date']).hour\n",
    "merged_trip_end_station_data[\"month\"] = pd.DatetimeIndex(merged_trip_end_station_data['End Date']).month\n",
    "merged_trip_end_station_data[\"day\"] = pd.DatetimeIndex(merged_trip_end_station_data['End Date']).dayofweek\n",
    "merged_trip_end_station_data[\"year\"] = pd.DatetimeIndex(merged_trip_end_station_data['End Date']).year\n",
    "merged_trip_end_station_data[\"date\"] = pd.DatetimeIndex(merged_trip_end_station_data['End Date']).date\n",
    "\n",
    "merged_trip_end_station_data['date'] = pd.to_datetime(merged_trip_end_station_data['date'])"
   ]
  },
  {
   "cell_type": "code",
   "execution_count": 204,
   "metadata": {},
   "outputs": [
    {
     "data": {
      "text/html": [
       "<div>\n",
       "<style scoped>\n",
       "    .dataframe tbody tr th:only-of-type {\n",
       "        vertical-align: middle;\n",
       "    }\n",
       "\n",
       "    .dataframe tbody tr th {\n",
       "        vertical-align: top;\n",
       "    }\n",
       "\n",
       "    .dataframe thead th {\n",
       "        text-align: right;\n",
       "    }\n",
       "</style>\n",
       "<table border=\"1\" class=\"dataframe\">\n",
       "  <thead>\n",
       "    <tr style=\"text-align: right;\">\n",
       "      <th></th>\n",
       "      <th>Id</th>\n",
       "      <th>date</th>\n",
       "      <th>day</th>\n",
       "      <th>hour</th>\n",
       "      <th>incoming_bikes</th>\n",
       "    </tr>\n",
       "  </thead>\n",
       "  <tbody>\n",
       "    <tr>\n",
       "      <th>0</th>\n",
       "      <td>2</td>\n",
       "      <td>2014-01-09</td>\n",
       "      <td>3</td>\n",
       "      <td>14</td>\n",
       "      <td>1</td>\n",
       "    </tr>\n",
       "    <tr>\n",
       "      <th>1</th>\n",
       "      <td>2</td>\n",
       "      <td>2014-01-10</td>\n",
       "      <td>4</td>\n",
       "      <td>7</td>\n",
       "      <td>4</td>\n",
       "    </tr>\n",
       "    <tr>\n",
       "      <th>2</th>\n",
       "      <td>2</td>\n",
       "      <td>2014-01-10</td>\n",
       "      <td>4</td>\n",
       "      <td>9</td>\n",
       "      <td>1</td>\n",
       "    </tr>\n",
       "    <tr>\n",
       "      <th>3</th>\n",
       "      <td>2</td>\n",
       "      <td>2014-01-10</td>\n",
       "      <td>4</td>\n",
       "      <td>12</td>\n",
       "      <td>1</td>\n",
       "    </tr>\n",
       "    <tr>\n",
       "      <th>4</th>\n",
       "      <td>2</td>\n",
       "      <td>2014-01-10</td>\n",
       "      <td>4</td>\n",
       "      <td>14</td>\n",
       "      <td>1</td>\n",
       "    </tr>\n",
       "  </tbody>\n",
       "</table>\n",
       "</div>"
      ],
      "text/plain": [
       "   Id       date  day  hour  incoming_bikes\n",
       "0   2 2014-01-09    3    14               1\n",
       "1   2 2014-01-10    4     7               4\n",
       "2   2 2014-01-10    4     9               1\n",
       "3   2 2014-01-10    4    12               1\n",
       "4   2 2014-01-10    4    14               1"
      ]
     },
     "execution_count": 204,
     "metadata": {},
     "output_type": "execute_result"
    }
   ],
   "source": [
    "df3 = merged_trip_end_station_data.groupby(['Id', 'date', 'day','hour']).size() # Gives number of bikes incoming on a station on any dayof week at an hour for a adtae \n",
    "df3 = df3.to_frame()\n",
    "df3.reset_index(inplace=True)\n",
    "df3.columns=['Id', 'date', 'day','hour','incoming_bikes']\n",
    "df3.head()"
   ]
  },
  {
   "cell_type": "code",
   "execution_count": 205,
   "metadata": {},
   "outputs": [
    {
     "data": {
      "text/plain": [
       "<matplotlib.axes._subplots.AxesSubplot at 0x1a549ae940>"
      ]
     },
     "execution_count": 205,
     "metadata": {},
     "output_type": "execute_result"
    },
    {
     "data": {
      "image/png": "[encoded data removed]",
      "text/plain": [
       "<Figure size 432x288 with 1 Axes>"
      ]
     },
     "metadata": {},
     "output_type": "display_data"
    }
   ],
   "source": [
    "sns.distplot(df3[\"incoming_bikes\"])"
   ]
  },
  {
   "cell_type": "code",
   "execution_count": 206,
   "metadata": {
    "scrolled": true
   },
   "outputs": [
    {
     "data": {
      "image/png": "[encoded data removed]",
      "text/plain": [
       "<Figure size 2520x360 with 7 Axes>"
      ]
     },
     "metadata": {},
     "output_type": "display_data"
    }
   ],
   "source": [
    "\n",
    "g = sns.catplot(x=\"hour\",y=\"incoming_bikes\", col='day', data=df3, kind=\"bar\", size=5, palette = \"muted\")\n",
    "# There is a pattern between weekday and weekend. Can create new feature of weekday and weekened to make the data richer"
   ]
  },
  {
   "cell_type": "code",
   "execution_count": 207,
   "metadata": {},
   "outputs": [
    {
     "data": {
      "text/html": [
       "<div>\n",
       "<style scoped>\n",
       "    .dataframe tbody tr th:only-of-type {\n",
       "        vertical-align: middle;\n",
       "    }\n",
       "\n",
       "    .dataframe tbody tr th {\n",
       "        vertical-align: top;\n",
       "    }\n",
       "\n",
       "    .dataframe thead th {\n",
       "        text-align: right;\n",
       "    }\n",
       "</style>\n",
       "<table border=\"1\" class=\"dataframe\">\n",
       "  <thead>\n",
       "    <tr style=\"text-align: right;\">\n",
       "      <th></th>\n",
       "      <th>Id</th>\n",
       "      <th>day</th>\n",
       "      <th>date</th>\n",
       "      <th>count_of_hours</th>\n",
       "    </tr>\n",
       "  </thead>\n",
       "  <tbody>\n",
       "    <tr>\n",
       "      <th>0</th>\n",
       "      <td>2</td>\n",
       "      <td>0</td>\n",
       "      <td>2014-02-10</td>\n",
       "      <td>9</td>\n",
       "    </tr>\n",
       "    <tr>\n",
       "      <th>1</th>\n",
       "      <td>2</td>\n",
       "      <td>0</td>\n",
       "      <td>2014-03-10</td>\n",
       "      <td>9</td>\n",
       "    </tr>\n",
       "    <tr>\n",
       "      <th>2</th>\n",
       "      <td>2</td>\n",
       "      <td>0</td>\n",
       "      <td>2014-05-12</td>\n",
       "      <td>7</td>\n",
       "    </tr>\n",
       "    <tr>\n",
       "      <th>3</th>\n",
       "      <td>2</td>\n",
       "      <td>0</td>\n",
       "      <td>2014-06-09</td>\n",
       "      <td>3</td>\n",
       "    </tr>\n",
       "    <tr>\n",
       "      <th>4</th>\n",
       "      <td>2</td>\n",
       "      <td>0</td>\n",
       "      <td>2014-08-11</td>\n",
       "      <td>4</td>\n",
       "    </tr>\n",
       "  </tbody>\n",
       "</table>\n",
       "</div>"
      ],
      "text/plain": [
       "   Id  day       date  count_of_hours\n",
       "0   2    0 2014-02-10               9\n",
       "1   2    0 2014-03-10               9\n",
       "2   2    0 2014-05-12               7\n",
       "3   2    0 2014-06-09               3\n",
       "4   2    0 2014-08-11               4"
      ]
     },
     "execution_count": 207,
     "metadata": {},
     "output_type": "execute_result"
    }
   ],
   "source": [
    "df4 = df3.groupby(['Id','day','date']).size()\n",
    "df4 = df4.to_frame()\n",
    "df4.reset_index(inplace=True)\n",
    "df4.columns=['Id','day','date' ,'count_of_hours']\n",
    "df4.head()"
   ]
  },
  {
   "cell_type": "code",
   "execution_count": 208,
   "metadata": {},
   "outputs": [
    {
     "data": {
      "image/png": "[encoded data removed]",
      "text/plain": [
       "<Figure size 432x288 with 1 Axes>"
      ]
     },
     "metadata": {},
     "output_type": "display_data"
    }
   ],
   "source": [
    "\n",
    "sns.distplot(df4[\"count_of_hours\"]);\n",
    "# There are many stations which do not have any trips starting from that station during many hours of the day"
   ]
  },
  {
   "cell_type": "markdown",
   "metadata": {},
   "source": [
    "## Create y variable as change in number of bikes at a station : trips_ended - trips_started"
   ]
  },
  {
   "cell_type": "code",
   "execution_count": 222,
   "metadata": {},
   "outputs": [
    {
     "data": {
      "text/html": [
       "<div>\n",
       "<style scoped>\n",
       "    .dataframe tbody tr th:only-of-type {\n",
       "        vertical-align: middle;\n",
       "    }\n",
       "\n",
       "    .dataframe tbody tr th {\n",
       "        vertical-align: top;\n",
       "    }\n",
       "\n",
       "    .dataframe thead th {\n",
       "        text-align: right;\n",
       "    }\n",
       "</style>\n",
       "<table border=\"1\" class=\"dataframe\">\n",
       "  <thead>\n",
       "    <tr style=\"text-align: right;\">\n",
       "      <th></th>\n",
       "      <th>Id</th>\n",
       "      <th>date</th>\n",
       "      <th>day</th>\n",
       "      <th>hour</th>\n",
       "      <th>outgoing_bikes</th>\n",
       "      <th>incoming_bikes</th>\n",
       "    </tr>\n",
       "  </thead>\n",
       "  <tbody>\n",
       "    <tr>\n",
       "      <th>0</th>\n",
       "      <td>2</td>\n",
       "      <td>2014-01-09</td>\n",
       "      <td>3</td>\n",
       "      <td>12</td>\n",
       "      <td>1.000</td>\n",
       "      <td>nan</td>\n",
       "    </tr>\n",
       "    <tr>\n",
       "      <th>1</th>\n",
       "      <td>2</td>\n",
       "      <td>2014-01-09</td>\n",
       "      <td>3</td>\n",
       "      <td>21</td>\n",
       "      <td>4.000</td>\n",
       "      <td>nan</td>\n",
       "    </tr>\n",
       "    <tr>\n",
       "      <th>2</th>\n",
       "      <td>2</td>\n",
       "      <td>2014-01-09</td>\n",
       "      <td>3</td>\n",
       "      <td>22</td>\n",
       "      <td>1.000</td>\n",
       "      <td>nan</td>\n",
       "    </tr>\n",
       "    <tr>\n",
       "      <th>3</th>\n",
       "      <td>2</td>\n",
       "      <td>2014-01-10</td>\n",
       "      <td>4</td>\n",
       "      <td>6</td>\n",
       "      <td>1.000</td>\n",
       "      <td>nan</td>\n",
       "    </tr>\n",
       "    <tr>\n",
       "      <th>4</th>\n",
       "      <td>2</td>\n",
       "      <td>2014-01-10</td>\n",
       "      <td>4</td>\n",
       "      <td>7</td>\n",
       "      <td>3.000</td>\n",
       "      <td>4.000</td>\n",
       "    </tr>\n",
       "  </tbody>\n",
       "</table>\n",
       "</div>"
      ],
      "text/plain": [
       "   Id       date  day  hour  outgoing_bikes  incoming_bikes\n",
       "0   2 2014-01-09    3    12           1.000             nan\n",
       "1   2 2014-01-09    3    21           4.000             nan\n",
       "2   2 2014-01-09    3    22           1.000             nan\n",
       "3   2 2014-01-10    4     6           1.000             nan\n",
       "4   2 2014-01-10    4     7           3.000           4.000"
      ]
     },
     "execution_count": 222,
     "metadata": {},
     "output_type": "execute_result"
    }
   ],
   "source": [
    "# Merge data on id, day, and hour to get the coming and outgoing bikes\n",
    "df5 = df1.merge(df3, how=\"outer\", on =['Id','date','day','hour'])\n",
    "df5.head()"
   ]
  },
  {
   "cell_type": "code",
   "execution_count": 223,
   "metadata": {},
   "outputs": [
    {
     "data": {
      "text/plain": [
       "Id                    0\n",
       "date                  0\n",
       "day                   0\n",
       "hour                  0\n",
       "outgoing_bikes    55641\n",
       "incoming_bikes    59491\n",
       "dtype: int64"
      ]
     },
     "execution_count": 223,
     "metadata": {},
     "output_type": "execute_result"
    }
   ],
   "source": [
    "df5.isnull().sum()"
   ]
  },
  {
   "cell_type": "code",
   "execution_count": 224,
   "metadata": {},
   "outputs": [
    {
     "data": {
      "text/plain": [
       "Id                0\n",
       "date              0\n",
       "day               0\n",
       "hour              0\n",
       "outgoing_bikes    0\n",
       "incoming_bikes    0\n",
       "dtype: int64"
      ]
     },
     "execution_count": 224,
     "metadata": {},
     "output_type": "execute_result"
    }
   ],
   "source": [
    "# Nulls included in data due to outer join for ids where there are incoming bikes but not outgoing and vice versa.\n",
    "# We can fill those columns with 0\n",
    "df5 = df5.fillna(0) \n",
    "df5.isnull().sum() "
   ]
  },
  {
   "cell_type": "code",
   "execution_count": 225,
   "metadata": {},
   "outputs": [
    {
     "data": {
      "text/html": [
       "<div>\n",
       "<style scoped>\n",
       "    .dataframe tbody tr th:only-of-type {\n",
       "        vertical-align: middle;\n",
       "    }\n",
       "\n",
       "    .dataframe tbody tr th {\n",
       "        vertical-align: top;\n",
       "    }\n",
       "\n",
       "    .dataframe thead th {\n",
       "        text-align: right;\n",
       "    }\n",
       "</style>\n",
       "<table border=\"1\" class=\"dataframe\">\n",
       "  <thead>\n",
       "    <tr style=\"text-align: right;\">\n",
       "      <th></th>\n",
       "      <th>Id</th>\n",
       "      <th>date</th>\n",
       "      <th>day</th>\n",
       "      <th>hour</th>\n",
       "      <th>outgoing_bikes</th>\n",
       "      <th>incoming_bikes</th>\n",
       "      <th>net_chnage</th>\n",
       "    </tr>\n",
       "  </thead>\n",
       "  <tbody>\n",
       "    <tr>\n",
       "      <th>0</th>\n",
       "      <td>2</td>\n",
       "      <td>2014-01-09</td>\n",
       "      <td>3</td>\n",
       "      <td>12</td>\n",
       "      <td>1.000</td>\n",
       "      <td>0.000</td>\n",
       "      <td>-1.000</td>\n",
       "    </tr>\n",
       "    <tr>\n",
       "      <th>1</th>\n",
       "      <td>2</td>\n",
       "      <td>2014-01-09</td>\n",
       "      <td>3</td>\n",
       "      <td>21</td>\n",
       "      <td>4.000</td>\n",
       "      <td>0.000</td>\n",
       "      <td>-4.000</td>\n",
       "    </tr>\n",
       "    <tr>\n",
       "      <th>2</th>\n",
       "      <td>2</td>\n",
       "      <td>2014-01-09</td>\n",
       "      <td>3</td>\n",
       "      <td>22</td>\n",
       "      <td>1.000</td>\n",
       "      <td>0.000</td>\n",
       "      <td>-1.000</td>\n",
       "    </tr>\n",
       "    <tr>\n",
       "      <th>3</th>\n",
       "      <td>2</td>\n",
       "      <td>2014-01-10</td>\n",
       "      <td>4</td>\n",
       "      <td>6</td>\n",
       "      <td>1.000</td>\n",
       "      <td>0.000</td>\n",
       "      <td>-1.000</td>\n",
       "    </tr>\n",
       "    <tr>\n",
       "      <th>4</th>\n",
       "      <td>2</td>\n",
       "      <td>2014-01-10</td>\n",
       "      <td>4</td>\n",
       "      <td>7</td>\n",
       "      <td>3.000</td>\n",
       "      <td>4.000</td>\n",
       "      <td>1.000</td>\n",
       "    </tr>\n",
       "  </tbody>\n",
       "</table>\n",
       "</div>"
      ],
      "text/plain": [
       "   Id       date  day  hour  outgoing_bikes  incoming_bikes  net_chnage\n",
       "0   2 2014-01-09    3    12           1.000           0.000      -1.000\n",
       "1   2 2014-01-09    3    21           4.000           0.000      -4.000\n",
       "2   2 2014-01-09    3    22           1.000           0.000      -1.000\n",
       "3   2 2014-01-10    4     6           1.000           0.000      -1.000\n",
       "4   2 2014-01-10    4     7           3.000           4.000       1.000"
      ]
     },
     "execution_count": 225,
     "metadata": {},
     "output_type": "execute_result"
    }
   ],
   "source": [
    "df5['net_chnage'] = df5['incoming_bikes']-df5['outgoing_bikes'] #change in number of bikes at a station : trips_ended - trips_started\n",
    "df5.head()"
   ]
  },
  {
   "cell_type": "code",
   "execution_count": 226,
   "metadata": {},
   "outputs": [
    {
     "data": {
      "image/png": "[encoded data removed]",
      "text/plain": [
       "<Figure size 432x288 with 1 Axes>"
      ]
     },
     "metadata": {},
     "output_type": "display_data"
    }
   ],
   "source": [
    "sns.distplot(df5[\"net_chnage\"]);\n",
    "\n"
   ]
  },
  {
   "cell_type": "markdown",
   "metadata": {},
   "source": [
    "### Combine the features of the station with the change rate"
   ]
  },
  {
   "cell_type": "code",
   "execution_count": 227,
   "metadata": {},
   "outputs": [
    {
     "data": {
      "text/plain": [
       "(198156, 7)"
      ]
     },
     "execution_count": 227,
     "metadata": {},
     "output_type": "execute_result"
    }
   ],
   "source": [
    "df5.shape"
   ]
  },
  {
   "cell_type": "code",
   "execution_count": 228,
   "metadata": {},
   "outputs": [
    {
     "data": {
      "text/plain": [
       "(198156, 9)"
      ]
     },
     "execution_count": 228,
     "metadata": {},
     "output_type": "execute_result"
    }
   ],
   "source": [
    "combined_data = df5.merge(filter_data_from_station, how='left', on=['Id']) \n",
    "combined_data.shape #no loss of data on join"
   ]
  },
  {
   "cell_type": "code",
   "execution_count": 229,
   "metadata": {},
   "outputs": [
    {
     "data": {
      "text/html": [
       "<div>\n",
       "<style scoped>\n",
       "    .dataframe tbody tr th:only-of-type {\n",
       "        vertical-align: middle;\n",
       "    }\n",
       "\n",
       "    .dataframe tbody tr th {\n",
       "        vertical-align: top;\n",
       "    }\n",
       "\n",
       "    .dataframe thead th {\n",
       "        text-align: right;\n",
       "    }\n",
       "</style>\n",
       "<table border=\"1\" class=\"dataframe\">\n",
       "  <thead>\n",
       "    <tr style=\"text-align: right;\">\n",
       "      <th></th>\n",
       "      <th>Id</th>\n",
       "      <th>date</th>\n",
       "      <th>day</th>\n",
       "      <th>hour</th>\n",
       "      <th>outgoing_bikes</th>\n",
       "      <th>incoming_bikes</th>\n",
       "      <th>net_chnage</th>\n",
       "      <th>Dock Count</th>\n",
       "      <th>City</th>\n",
       "    </tr>\n",
       "  </thead>\n",
       "  <tbody>\n",
       "    <tr>\n",
       "      <th>0</th>\n",
       "      <td>2</td>\n",
       "      <td>2014-01-09</td>\n",
       "      <td>3</td>\n",
       "      <td>12</td>\n",
       "      <td>1.000</td>\n",
       "      <td>0.000</td>\n",
       "      <td>-1.000</td>\n",
       "      <td>27</td>\n",
       "      <td>San Jose</td>\n",
       "    </tr>\n",
       "    <tr>\n",
       "      <th>1</th>\n",
       "      <td>2</td>\n",
       "      <td>2014-01-09</td>\n",
       "      <td>3</td>\n",
       "      <td>21</td>\n",
       "      <td>4.000</td>\n",
       "      <td>0.000</td>\n",
       "      <td>-4.000</td>\n",
       "      <td>27</td>\n",
       "      <td>San Jose</td>\n",
       "    </tr>\n",
       "    <tr>\n",
       "      <th>2</th>\n",
       "      <td>2</td>\n",
       "      <td>2014-01-09</td>\n",
       "      <td>3</td>\n",
       "      <td>22</td>\n",
       "      <td>1.000</td>\n",
       "      <td>0.000</td>\n",
       "      <td>-1.000</td>\n",
       "      <td>27</td>\n",
       "      <td>San Jose</td>\n",
       "    </tr>\n",
       "    <tr>\n",
       "      <th>3</th>\n",
       "      <td>2</td>\n",
       "      <td>2014-01-10</td>\n",
       "      <td>4</td>\n",
       "      <td>6</td>\n",
       "      <td>1.000</td>\n",
       "      <td>0.000</td>\n",
       "      <td>-1.000</td>\n",
       "      <td>27</td>\n",
       "      <td>San Jose</td>\n",
       "    </tr>\n",
       "    <tr>\n",
       "      <th>4</th>\n",
       "      <td>2</td>\n",
       "      <td>2014-01-10</td>\n",
       "      <td>4</td>\n",
       "      <td>7</td>\n",
       "      <td>3.000</td>\n",
       "      <td>4.000</td>\n",
       "      <td>1.000</td>\n",
       "      <td>27</td>\n",
       "      <td>San Jose</td>\n",
       "    </tr>\n",
       "  </tbody>\n",
       "</table>\n",
       "</div>"
      ],
      "text/plain": [
       "   Id       date  day  hour  outgoing_bikes  incoming_bikes  net_chnage  \\\n",
       "0   2 2014-01-09    3    12           1.000           0.000      -1.000   \n",
       "1   2 2014-01-09    3    21           4.000           0.000      -4.000   \n",
       "2   2 2014-01-09    3    22           1.000           0.000      -1.000   \n",
       "3   2 2014-01-10    4     6           1.000           0.000      -1.000   \n",
       "4   2 2014-01-10    4     7           3.000           4.000       1.000   \n",
       "\n",
       "   Dock Count      City  \n",
       "0          27  San Jose  \n",
       "1          27  San Jose  \n",
       "2          27  San Jose  \n",
       "3          27  San Jose  \n",
       "4          27  San Jose  "
      ]
     },
     "execution_count": 229,
     "metadata": {},
     "output_type": "execute_result"
    }
   ],
   "source": [
    "combined_data.head()"
   ]
  },
  {
   "cell_type": "markdown",
   "metadata": {},
   "source": [
    "### Weather data"
   ]
  },
  {
   "cell_type": "code",
   "execution_count": 313,
   "metadata": {},
   "outputs": [
    {
     "name": "stdout",
     "output_type": "stream",
     "text": [
      "<class 'pandas.core.frame.DataFrame'>\n",
      "RangeIndex: 1825 entries, 0 to 1824\n",
      "Data columns (total 24 columns):\n",
      "Date                         1825 non-null object\n",
      "Max TemperatureF             1821 non-null float64\n",
      "Mean TemperatureF            1821 non-null float64\n",
      "Min TemperatureF             1821 non-null float64\n",
      "Max Dew PointF               1775 non-null float64\n",
      "MeanDew PointF               1775 non-null float64\n",
      "Min DewpointF                1775 non-null float64\n",
      "Max Humidity                 1775 non-null float64\n",
      "Mean Humidity                1775 non-null float64\n",
      "Min Humidity                 1775 non-null float64\n",
      "Max Sea Level PressureIn     1824 non-null float64\n",
      "Mean Sea Level PressureIn    1824 non-null float64\n",
      "Min Sea Level PressureIn     1824 non-null float64\n",
      "Max VisibilityMiles          1820 non-null float64\n",
      "Mean VisibilityMiles         1820 non-null float64\n",
      "Min VisibilityMiles          1820 non-null float64\n",
      "Max Wind SpeedMPH            1824 non-null float64\n",
      "Mean Wind SpeedMPH           1824 non-null float64\n",
      "Max Gust SpeedMPH            1284 non-null float64\n",
      "PrecipitationIn              1824 non-null float64\n",
      "CloudCover                   1824 non-null float64\n",
      "Events                       287 non-null object\n",
      "WindDirDegrees               1824 non-null float64\n",
      "Zip                          1825 non-null int64\n",
      "dtypes: float64(21), int64(1), object(2)\n",
      "memory usage: 342.3+ KB\n"
     ]
    }
   ],
   "source": [
    "weather_data = pd.read_csv('bikes_data_only/data/weather_data.csv')\n",
    "weather_data.info() #Check if y variable has missing value. Drop that row."
   ]
  },
  {
   "cell_type": "code",
   "execution_count": 314,
   "metadata": {},
   "outputs": [],
   "source": [
    "weather_data['date'] = pd.to_datetime(weather_data['Date'])\n",
    "weather_data = weather_data.drop('Date', axis=1)\n",
    "weather_data = weather_data.drop('Zip', axis=1)\n"
   ]
  },
  {
   "cell_type": "code",
   "execution_count": 315,
   "metadata": {},
   "outputs": [
    {
     "data": {
      "text/html": [
       "<div>\n",
       "<style scoped>\n",
       "    .dataframe tbody tr th:only-of-type {\n",
       "        vertical-align: middle;\n",
       "    }\n",
       "\n",
       "    .dataframe tbody tr th {\n",
       "        vertical-align: top;\n",
       "    }\n",
       "\n",
       "    .dataframe thead th {\n",
       "        text-align: right;\n",
       "    }\n",
       "</style>\n",
       "<table border=\"1\" class=\"dataframe\">\n",
       "  <thead>\n",
       "    <tr style=\"text-align: right;\">\n",
       "      <th></th>\n",
       "      <th>Max TemperatureF</th>\n",
       "      <th>Mean TemperatureF</th>\n",
       "      <th>Min TemperatureF</th>\n",
       "      <th>Max Dew PointF</th>\n",
       "      <th>MeanDew PointF</th>\n",
       "      <th>Min DewpointF</th>\n",
       "      <th>Max Humidity</th>\n",
       "      <th>Mean Humidity</th>\n",
       "      <th>Min Humidity</th>\n",
       "      <th>Max Sea Level PressureIn</th>\n",
       "      <th>...</th>\n",
       "      <th>Mean VisibilityMiles</th>\n",
       "      <th>Min VisibilityMiles</th>\n",
       "      <th>Max Wind SpeedMPH</th>\n",
       "      <th>Mean Wind SpeedMPH</th>\n",
       "      <th>Max Gust SpeedMPH</th>\n",
       "      <th>PrecipitationIn</th>\n",
       "      <th>CloudCover</th>\n",
       "      <th>Events</th>\n",
       "      <th>WindDirDegrees</th>\n",
       "      <th>date</th>\n",
       "    </tr>\n",
       "  </thead>\n",
       "  <tbody>\n",
       "    <tr>\n",
       "      <th>0</th>\n",
       "      <td>83.000</td>\n",
       "      <td>70.000</td>\n",
       "      <td>57.000</td>\n",
       "      <td>58.000</td>\n",
       "      <td>56.000</td>\n",
       "      <td>52.000</td>\n",
       "      <td>86.000</td>\n",
       "      <td>64.000</td>\n",
       "      <td>42.000</td>\n",
       "      <td>29.860</td>\n",
       "      <td>...</td>\n",
       "      <td>10.000</td>\n",
       "      <td>8.000</td>\n",
       "      <td>16.000</td>\n",
       "      <td>7.000</td>\n",
       "      <td>20.000</td>\n",
       "      <td>0.000</td>\n",
       "      <td>0.000</td>\n",
       "      <td>NaN</td>\n",
       "      <td>290.000</td>\n",
       "      <td>2014-01-09</td>\n",
       "    </tr>\n",
       "    <tr>\n",
       "      <th>1</th>\n",
       "      <td>72.000</td>\n",
       "      <td>66.000</td>\n",
       "      <td>60.000</td>\n",
       "      <td>58.000</td>\n",
       "      <td>57.000</td>\n",
       "      <td>55.000</td>\n",
       "      <td>84.000</td>\n",
       "      <td>73.000</td>\n",
       "      <td>61.000</td>\n",
       "      <td>29.870</td>\n",
       "      <td>...</td>\n",
       "      <td>10.000</td>\n",
       "      <td>7.000</td>\n",
       "      <td>21.000</td>\n",
       "      <td>8.000</td>\n",
       "      <td>nan</td>\n",
       "      <td>0.000</td>\n",
       "      <td>5.000</td>\n",
       "      <td>NaN</td>\n",
       "      <td>290.000</td>\n",
       "      <td>2014-02-09</td>\n",
       "    </tr>\n",
       "    <tr>\n",
       "      <th>2</th>\n",
       "      <td>76.000</td>\n",
       "      <td>69.000</td>\n",
       "      <td>61.000</td>\n",
       "      <td>57.000</td>\n",
       "      <td>56.000</td>\n",
       "      <td>55.000</td>\n",
       "      <td>84.000</td>\n",
       "      <td>69.000</td>\n",
       "      <td>53.000</td>\n",
       "      <td>29.810</td>\n",
       "      <td>...</td>\n",
       "      <td>10.000</td>\n",
       "      <td>10.000</td>\n",
       "      <td>21.000</td>\n",
       "      <td>8.000</td>\n",
       "      <td>24.000</td>\n",
       "      <td>0.000</td>\n",
       "      <td>4.000</td>\n",
       "      <td>NaN</td>\n",
       "      <td>276.000</td>\n",
       "      <td>2014-03-09</td>\n",
       "    </tr>\n",
       "    <tr>\n",
       "      <th>3</th>\n",
       "      <td>74.000</td>\n",
       "      <td>68.000</td>\n",
       "      <td>61.000</td>\n",
       "      <td>57.000</td>\n",
       "      <td>57.000</td>\n",
       "      <td>56.000</td>\n",
       "      <td>84.000</td>\n",
       "      <td>71.000</td>\n",
       "      <td>57.000</td>\n",
       "      <td>29.810</td>\n",
       "      <td>...</td>\n",
       "      <td>10.000</td>\n",
       "      <td>8.000</td>\n",
       "      <td>22.000</td>\n",
       "      <td>8.000</td>\n",
       "      <td>25.000</td>\n",
       "      <td>0.000</td>\n",
       "      <td>5.000</td>\n",
       "      <td>NaN</td>\n",
       "      <td>301.000</td>\n",
       "      <td>2014-04-09</td>\n",
       "    </tr>\n",
       "    <tr>\n",
       "      <th>4</th>\n",
       "      <td>72.000</td>\n",
       "      <td>66.000</td>\n",
       "      <td>60.000</td>\n",
       "      <td>57.000</td>\n",
       "      <td>56.000</td>\n",
       "      <td>54.000</td>\n",
       "      <td>84.000</td>\n",
       "      <td>71.000</td>\n",
       "      <td>57.000</td>\n",
       "      <td>29.920</td>\n",
       "      <td>...</td>\n",
       "      <td>9.000</td>\n",
       "      <td>7.000</td>\n",
       "      <td>18.000</td>\n",
       "      <td>8.000</td>\n",
       "      <td>32.000</td>\n",
       "      <td>0.000</td>\n",
       "      <td>4.000</td>\n",
       "      <td>NaN</td>\n",
       "      <td>309.000</td>\n",
       "      <td>2014-05-09</td>\n",
       "    </tr>\n",
       "  </tbody>\n",
       "</table>\n",
       "<p>5 rows × 23 columns</p>\n",
       "</div>"
      ],
      "text/plain": [
       "   Max TemperatureF  Mean TemperatureF  Min TemperatureF  Max Dew PointF  \\\n",
       "0            83.000             70.000            57.000          58.000   \n",
       "1            72.000             66.000            60.000          58.000   \n",
       "2            76.000             69.000            61.000          57.000   \n",
       "3            74.000             68.000            61.000          57.000   \n",
       "4            72.000             66.000            60.000          57.000   \n",
       "\n",
       "   MeanDew PointF  Min DewpointF  Max Humidity  Mean Humidity  Min Humidity  \\\n",
       "0          56.000         52.000        86.000         64.000        42.000   \n",
       "1          57.000         55.000        84.000         73.000        61.000   \n",
       "2          56.000         55.000        84.000         69.000        53.000   \n",
       "3          57.000         56.000        84.000         71.000        57.000   \n",
       "4          56.000         54.000        84.000         71.000        57.000   \n",
       "\n",
       "   Max Sea Level PressureIn  ...  Mean VisibilityMiles  Min VisibilityMiles  \\\n",
       "0                    29.860  ...                10.000                8.000   \n",
       "1                    29.870  ...                10.000                7.000   \n",
       "2                    29.810  ...                10.000               10.000   \n",
       "3                    29.810  ...                10.000                8.000   \n",
       "4                    29.920  ...                 9.000                7.000   \n",
       "\n",
       "   Max Wind SpeedMPH  Mean Wind SpeedMPH  Max Gust SpeedMPH  PrecipitationIn  \\\n",
       "0             16.000               7.000             20.000            0.000   \n",
       "1             21.000               8.000                nan            0.000   \n",
       "2             21.000               8.000             24.000            0.000   \n",
       "3             22.000               8.000             25.000            0.000   \n",
       "4             18.000               8.000             32.000            0.000   \n",
       "\n",
       "   CloudCover  Events  WindDirDegrees       date  \n",
       "0       0.000     NaN         290.000 2014-01-09  \n",
       "1       5.000     NaN         290.000 2014-02-09  \n",
       "2       4.000     NaN         276.000 2014-03-09  \n",
       "3       5.000     NaN         301.000 2014-04-09  \n",
       "4       4.000     NaN         309.000 2014-05-09  \n",
       "\n",
       "[5 rows x 23 columns]"
      ]
     },
     "execution_count": 315,
     "metadata": {},
     "output_type": "execute_result"
    }
   ],
   "source": [
    "weather_data.head()"
   ]
  },
  {
   "cell_type": "markdown",
   "metadata": {},
   "source": [
    "## Impute missing data"
   ]
  },
  {
   "cell_type": "code",
   "execution_count": 316,
   "metadata": {},
   "outputs": [
    {
     "data": {
      "image/png": "[encoded data removed]",
      "text/plain": [
       "<Figure size 432x288 with 1 Axes>"
      ]
     },
     "metadata": {},
     "output_type": "display_data"
    }
   ],
   "source": [
    "sns.distplot(weather_data['Max TemperatureF'].dropna());"
   ]
  },
  {
   "cell_type": "code",
   "execution_count": 317,
   "metadata": {},
   "outputs": [
    {
     "data": {
      "image/png": "[encoded data removed]",
      "text/plain": [
       "<Figure size 432x288 with 1 Axes>"
      ]
     },
     "metadata": {},
     "output_type": "display_data"
    }
   ],
   "source": [
    "sns.distplot(weather_data['Mean TemperatureF'].dropna());"
   ]
  },
  {
   "cell_type": "code",
   "execution_count": 318,
   "metadata": {},
   "outputs": [
    {
     "data": {
      "image/png": "[encoded data removed]",
      "text/plain": [
       "<Figure size 432x288 with 1 Axes>"
      ]
     },
     "metadata": {},
     "output_type": "display_data"
    }
   ],
   "source": [
    "sns.distplot(weather_data['Min TemperatureF'].dropna());"
   ]
  },
  {
   "cell_type": "code",
   "execution_count": 319,
   "metadata": {},
   "outputs": [],
   "source": [
    "# Since only 4 values are missing in this dataframe and the data follows somewhat normal distribution we can impute the missing value with the mode value of the column\n",
    "weather_data['Max TemperatureF'] = weather_data['Max TemperatureF'].fillna(weather_data['Max TemperatureF'].mode()[0])\n",
    "weather_data['Min TemperatureF'] = weather_data['Min TemperatureF'].fillna(weather_data['Min TemperatureF'].mode()[0])\n",
    "weather_data['Mean TemperatureF'] = weather_data['Mean TemperatureF'].fillna(weather_data['Mean TemperatureF'].mode()[0])\n",
    "\n",
    "\n",
    "\n"
   ]
  },
  {
   "cell_type": "code",
   "execution_count": 320,
   "metadata": {},
   "outputs": [
    {
     "data": {
      "image/png": "[encoded data removed]",
      "text/plain": [
       "<Figure size 432x288 with 1 Axes>"
      ]
     },
     "metadata": {},
     "output_type": "display_data"
    }
   ],
   "source": [
    "sns.distplot(weather_data['Max Dew PointF'].dropna());\n"
   ]
  },
  {
   "cell_type": "code",
   "execution_count": 321,
   "metadata": {},
   "outputs": [
    {
     "data": {
      "image/png": "[encoded data removed]",
      "text/plain": [
       "<Figure size 432x288 with 1 Axes>"
      ]
     },
     "metadata": {},
     "output_type": "display_data"
    }
   ],
   "source": [
    "sns.distplot(weather_data['Min DewpointF'].dropna());\n"
   ]
  },
  {
   "cell_type": "code",
   "execution_count": 322,
   "metadata": {},
   "outputs": [
    {
     "data": {
      "image/png": "[encoded data removed]",
      "text/plain": [
       "<Figure size 432x288 with 1 Axes>"
      ]
     },
     "metadata": {},
     "output_type": "display_data"
    }
   ],
   "source": [
    "sns.distplot(weather_data['MeanDew PointF'].dropna()); "
   ]
  },
  {
   "cell_type": "markdown",
   "metadata": {},
   "source": [
    "## Use same strategy for all the columns with missing value except for events"
   ]
  },
  {
   "cell_type": "code",
   "execution_count": 325,
   "metadata": {},
   "outputs": [],
   "source": [
    "#cols = weather_data.columns\n",
    "cols = ['date', 'Max TemperatureF', 'Mean TemperatureF', 'Min TemperatureF',\n",
    "       'Max Dew PointF', 'MeanDew PointF', 'Min DewpointF', 'Max Humidity',\n",
    "       'Mean Humidity', 'Min Humidity', 'Max Sea Level PressureIn',\n",
    "       'Mean Sea Level PressureIn', 'Min Sea Level PressureIn',\n",
    "       'Max VisibilityMiles', 'Mean VisibilityMiles', 'Min VisibilityMiles',\n",
    "       'Max Wind SpeedMPH', 'Mean Wind SpeedMPH', 'Max Gust SpeedMPH',\n",
    "       'PrecipitationIn', 'CloudCover', 'WindDirDegrees']"
   ]
  },
  {
   "cell_type": "code",
   "execution_count": 326,
   "metadata": {},
   "outputs": [],
   "source": [
    "for col in cols:\n",
    "    weather_data[col] = weather_data[col].fillna(weather_data[col].mode()[0])"
   ]
  },
  {
   "cell_type": "code",
   "execution_count": 327,
   "metadata": {},
   "outputs": [
    {
     "name": "stdout",
     "output_type": "stream",
     "text": [
      "<class 'pandas.core.frame.DataFrame'>\n",
      "RangeIndex: 1825 entries, 0 to 1824\n",
      "Data columns (total 23 columns):\n",
      "Max TemperatureF             1825 non-null float64\n",
      "Mean TemperatureF            1825 non-null float64\n",
      "Min TemperatureF             1825 non-null float64\n",
      "Max Dew PointF               1825 non-null float64\n",
      "MeanDew PointF               1825 non-null float64\n",
      "Min DewpointF                1825 non-null float64\n",
      "Max Humidity                 1825 non-null float64\n",
      "Mean Humidity                1825 non-null float64\n",
      "Min Humidity                 1825 non-null float64\n",
      "Max Sea Level PressureIn     1825 non-null float64\n",
      "Mean Sea Level PressureIn    1825 non-null float64\n",
      "Min Sea Level PressureIn     1825 non-null float64\n",
      "Max VisibilityMiles          1825 non-null float64\n",
      "Mean VisibilityMiles         1825 non-null float64\n",
      "Min VisibilityMiles          1825 non-null float64\n",
      "Max Wind SpeedMPH            1825 non-null float64\n",
      "Mean Wind SpeedMPH           1825 non-null float64\n",
      "Max Gust SpeedMPH            1825 non-null float64\n",
      "PrecipitationIn              1825 non-null float64\n",
      "CloudCover                   1825 non-null float64\n",
      "Events                       287 non-null object\n",
      "WindDirDegrees               1825 non-null float64\n",
      "date                         1825 non-null datetime64[ns]\n",
      "dtypes: datetime64[ns](1), float64(21), object(1)\n",
      "memory usage: 328.0+ KB\n"
     ]
    }
   ],
   "source": [
    "weather_data.info()"
   ]
  },
  {
   "cell_type": "code",
   "execution_count": 328,
   "metadata": {},
   "outputs": [],
   "source": [
    "weather_data['Events'] = weather_data['Events'].fillna('None') # Missing events means no events"
   ]
  },
  {
   "cell_type": "code",
   "execution_count": 337,
   "metadata": {},
   "outputs": [
    {
     "data": {
      "text/plain": [
       "(1825, 23)"
      ]
     },
     "execution_count": 337,
     "metadata": {},
     "output_type": "execute_result"
    }
   ],
   "source": [
    "weather_data.shape"
   ]
  },
  {
   "cell_type": "markdown",
   "metadata": {},
   "source": [
    "## Get dummy variable for categorical data"
   ]
  },
  {
   "cell_type": "code",
   "execution_count": 338,
   "metadata": {},
   "outputs": [],
   "source": [
    "weather_data['Events'].unique()\n",
    "weather_data['Events'] = weather_data['Events'].fillna('None') # Missing events means no events"
   ]
  },
  {
   "cell_type": "code",
   "execution_count": 339,
   "metadata": {},
   "outputs": [
    {
     "data": {
      "text/plain": [
       "(1825, 27)"
      ]
     },
     "execution_count": 339,
     "metadata": {},
     "output_type": "execute_result"
    }
   ],
   "source": [
    "weather_data = pd.get_dummies(weather_data)\n",
    "weather_data.shape"
   ]
  },
  {
   "cell_type": "code",
   "execution_count": 340,
   "metadata": {},
   "outputs": [
    {
     "data": {
      "text/html": [
       "<div>\n",
       "<style scoped>\n",
       "    .dataframe tbody tr th:only-of-type {\n",
       "        vertical-align: middle;\n",
       "    }\n",
       "\n",
       "    .dataframe tbody tr th {\n",
       "        vertical-align: top;\n",
       "    }\n",
       "\n",
       "    .dataframe thead th {\n",
       "        text-align: right;\n",
       "    }\n",
       "</style>\n",
       "<table border=\"1\" class=\"dataframe\">\n",
       "  <thead>\n",
       "    <tr style=\"text-align: right;\">\n",
       "      <th></th>\n",
       "      <th>Max TemperatureF</th>\n",
       "      <th>Mean TemperatureF</th>\n",
       "      <th>Min TemperatureF</th>\n",
       "      <th>Max Dew PointF</th>\n",
       "      <th>MeanDew PointF</th>\n",
       "      <th>Min DewpointF</th>\n",
       "      <th>Max Humidity</th>\n",
       "      <th>Mean Humidity</th>\n",
       "      <th>Min Humidity</th>\n",
       "      <th>Max Sea Level PressureIn</th>\n",
       "      <th>...</th>\n",
       "      <th>Max Gust SpeedMPH</th>\n",
       "      <th>PrecipitationIn</th>\n",
       "      <th>CloudCover</th>\n",
       "      <th>WindDirDegrees</th>\n",
       "      <th>date</th>\n",
       "      <th>Events_Fog</th>\n",
       "      <th>Events_Fog-Rain</th>\n",
       "      <th>Events_None</th>\n",
       "      <th>Events_Rain</th>\n",
       "      <th>Events_Rain-Thunderstorm</th>\n",
       "    </tr>\n",
       "  </thead>\n",
       "  <tbody>\n",
       "    <tr>\n",
       "      <th>0</th>\n",
       "      <td>83.000</td>\n",
       "      <td>70.000</td>\n",
       "      <td>57.000</td>\n",
       "      <td>58.000</td>\n",
       "      <td>56.000</td>\n",
       "      <td>52.000</td>\n",
       "      <td>86.000</td>\n",
       "      <td>64.000</td>\n",
       "      <td>42.000</td>\n",
       "      <td>29.860</td>\n",
       "      <td>...</td>\n",
       "      <td>20.000</td>\n",
       "      <td>0.000</td>\n",
       "      <td>0.000</td>\n",
       "      <td>290.000</td>\n",
       "      <td>2014-01-09</td>\n",
       "      <td>0</td>\n",
       "      <td>0</td>\n",
       "      <td>1</td>\n",
       "      <td>0</td>\n",
       "      <td>0</td>\n",
       "    </tr>\n",
       "    <tr>\n",
       "      <th>1</th>\n",
       "      <td>72.000</td>\n",
       "      <td>66.000</td>\n",
       "      <td>60.000</td>\n",
       "      <td>58.000</td>\n",
       "      <td>57.000</td>\n",
       "      <td>55.000</td>\n",
       "      <td>84.000</td>\n",
       "      <td>73.000</td>\n",
       "      <td>61.000</td>\n",
       "      <td>29.870</td>\n",
       "      <td>...</td>\n",
       "      <td>22.000</td>\n",
       "      <td>0.000</td>\n",
       "      <td>5.000</td>\n",
       "      <td>290.000</td>\n",
       "      <td>2014-02-09</td>\n",
       "      <td>0</td>\n",
       "      <td>0</td>\n",
       "      <td>1</td>\n",
       "      <td>0</td>\n",
       "      <td>0</td>\n",
       "    </tr>\n",
       "    <tr>\n",
       "      <th>2</th>\n",
       "      <td>76.000</td>\n",
       "      <td>69.000</td>\n",
       "      <td>61.000</td>\n",
       "      <td>57.000</td>\n",
       "      <td>56.000</td>\n",
       "      <td>55.000</td>\n",
       "      <td>84.000</td>\n",
       "      <td>69.000</td>\n",
       "      <td>53.000</td>\n",
       "      <td>29.810</td>\n",
       "      <td>...</td>\n",
       "      <td>24.000</td>\n",
       "      <td>0.000</td>\n",
       "      <td>4.000</td>\n",
       "      <td>276.000</td>\n",
       "      <td>2014-03-09</td>\n",
       "      <td>0</td>\n",
       "      <td>0</td>\n",
       "      <td>1</td>\n",
       "      <td>0</td>\n",
       "      <td>0</td>\n",
       "    </tr>\n",
       "    <tr>\n",
       "      <th>3</th>\n",
       "      <td>74.000</td>\n",
       "      <td>68.000</td>\n",
       "      <td>61.000</td>\n",
       "      <td>57.000</td>\n",
       "      <td>57.000</td>\n",
       "      <td>56.000</td>\n",
       "      <td>84.000</td>\n",
       "      <td>71.000</td>\n",
       "      <td>57.000</td>\n",
       "      <td>29.810</td>\n",
       "      <td>...</td>\n",
       "      <td>25.000</td>\n",
       "      <td>0.000</td>\n",
       "      <td>5.000</td>\n",
       "      <td>301.000</td>\n",
       "      <td>2014-04-09</td>\n",
       "      <td>0</td>\n",
       "      <td>0</td>\n",
       "      <td>1</td>\n",
       "      <td>0</td>\n",
       "      <td>0</td>\n",
       "    </tr>\n",
       "    <tr>\n",
       "      <th>4</th>\n",
       "      <td>72.000</td>\n",
       "      <td>66.000</td>\n",
       "      <td>60.000</td>\n",
       "      <td>57.000</td>\n",
       "      <td>56.000</td>\n",
       "      <td>54.000</td>\n",
       "      <td>84.000</td>\n",
       "      <td>71.000</td>\n",
       "      <td>57.000</td>\n",
       "      <td>29.920</td>\n",
       "      <td>...</td>\n",
       "      <td>32.000</td>\n",
       "      <td>0.000</td>\n",
       "      <td>4.000</td>\n",
       "      <td>309.000</td>\n",
       "      <td>2014-05-09</td>\n",
       "      <td>0</td>\n",
       "      <td>0</td>\n",
       "      <td>1</td>\n",
       "      <td>0</td>\n",
       "      <td>0</td>\n",
       "    </tr>\n",
       "  </tbody>\n",
       "</table>\n",
       "<p>5 rows × 27 columns</p>\n",
       "</div>"
      ],
      "text/plain": [
       "   Max TemperatureF  Mean TemperatureF  Min TemperatureF  Max Dew PointF  \\\n",
       "0            83.000             70.000            57.000          58.000   \n",
       "1            72.000             66.000            60.000          58.000   \n",
       "2            76.000             69.000            61.000          57.000   \n",
       "3            74.000             68.000            61.000          57.000   \n",
       "4            72.000             66.000            60.000          57.000   \n",
       "\n",
       "   MeanDew PointF  Min DewpointF  Max Humidity  Mean Humidity  Min Humidity  \\\n",
       "0          56.000         52.000        86.000         64.000        42.000   \n",
       "1          57.000         55.000        84.000         73.000        61.000   \n",
       "2          56.000         55.000        84.000         69.000        53.000   \n",
       "3          57.000         56.000        84.000         71.000        57.000   \n",
       "4          56.000         54.000        84.000         71.000        57.000   \n",
       "\n",
       "   Max Sea Level PressureIn  ...  Max Gust SpeedMPH  PrecipitationIn  \\\n",
       "0                    29.860  ...             20.000            0.000   \n",
       "1                    29.870  ...             22.000            0.000   \n",
       "2                    29.810  ...             24.000            0.000   \n",
       "3                    29.810  ...             25.000            0.000   \n",
       "4                    29.920  ...             32.000            0.000   \n",
       "\n",
       "   CloudCover  WindDirDegrees       date  Events_Fog  Events_Fog-Rain  \\\n",
       "0       0.000         290.000 2014-01-09           0                0   \n",
       "1       5.000         290.000 2014-02-09           0                0   \n",
       "2       4.000         276.000 2014-03-09           0                0   \n",
       "3       5.000         301.000 2014-04-09           0                0   \n",
       "4       4.000         309.000 2014-05-09           0                0   \n",
       "\n",
       "   Events_None  Events_Rain  Events_Rain-Thunderstorm  \n",
       "0            1            0                         0  \n",
       "1            1            0                         0  \n",
       "2            1            0                         0  \n",
       "3            1            0                         0  \n",
       "4            1            0                         0  \n",
       "\n",
       "[5 rows x 27 columns]"
      ]
     },
     "execution_count": 340,
     "metadata": {},
     "output_type": "execute_result"
    }
   ],
   "source": [
    "weather_data.head()"
   ]
  },
  {
   "cell_type": "markdown",
   "metadata": {},
   "source": [
    "# Merge it with the bikes data"
   ]
  },
  {
   "cell_type": "code",
   "execution_count": 341,
   "metadata": {},
   "outputs": [],
   "source": [
    "final_data = combined_data.merge(weather_data, how='left', on='date' )\n"
   ]
  },
  {
   "cell_type": "code",
   "execution_count": 344,
   "metadata": {},
   "outputs": [
    {
     "data": {
      "text/plain": [
       "array(['San Jose', 'Redwood City', 'Mountain View', 'Palo Alto',\n",
       "       'San Francisco'], dtype=object)"
      ]
     },
     "execution_count": 344,
     "metadata": {},
     "output_type": "execute_result"
    }
   ],
   "source": [
    "final_data['City'].unique()"
   ]
  },
  {
   "cell_type": "code",
   "execution_count": 345,
   "metadata": {},
   "outputs": [
    {
     "data": {
      "text/plain": [
       "(990780, 35)"
      ]
     },
     "execution_count": 345,
     "metadata": {},
     "output_type": "execute_result"
    }
   ],
   "source": [
    "final_data.shape"
   ]
  },
  {
   "cell_type": "code",
   "execution_count": 346,
   "metadata": {},
   "outputs": [
    {
     "data": {
      "text/plain": [
       "(990780, 39)"
      ]
     },
     "execution_count": 346,
     "metadata": {},
     "output_type": "execute_result"
    }
   ],
   "source": [
    "final_data = pd.get_dummies(final_data)\n",
    "final_data.shape"
   ]
  },
  {
   "cell_type": "code",
   "execution_count": 347,
   "metadata": {},
   "outputs": [
    {
     "name": "stdout",
     "output_type": "stream",
     "text": [
      "<class 'pandas.core.frame.DataFrame'>\n",
      "Int64Index: 990780 entries, 0 to 990779\n",
      "Data columns (total 39 columns):\n",
      "Id                           990780 non-null int64\n",
      "date                         990780 non-null datetime64[ns]\n",
      "day                          990780 non-null int64\n",
      "hour                         990780 non-null int64\n",
      "outgoing_bikes               990780 non-null float64\n",
      "incoming_bikes               990780 non-null float64\n",
      "net_chnage                   990780 non-null float64\n",
      "Dock Count                   990780 non-null int64\n",
      "Max TemperatureF             990780 non-null float64\n",
      "Mean TemperatureF            990780 non-null float64\n",
      "Min TemperatureF             990780 non-null float64\n",
      "Max Dew PointF               990780 non-null float64\n",
      "MeanDew PointF               990780 non-null float64\n",
      "Min DewpointF                990780 non-null float64\n",
      "Max Humidity                 990780 non-null float64\n",
      "Mean Humidity                990780 non-null float64\n",
      "Min Humidity                 990780 non-null float64\n",
      "Max Sea Level PressureIn     990780 non-null float64\n",
      "Mean Sea Level PressureIn    990780 non-null float64\n",
      "Min Sea Level PressureIn     990780 non-null float64\n",
      "Max VisibilityMiles          990780 non-null float64\n",
      "Mean VisibilityMiles         990780 non-null float64\n",
      "Min VisibilityMiles          990780 non-null float64\n",
      "Max Wind SpeedMPH            990780 non-null float64\n",
      "Mean Wind SpeedMPH           990780 non-null float64\n",
      "Max Gust SpeedMPH            990780 non-null float64\n",
      "PrecipitationIn              990780 non-null float64\n",
      "CloudCover                   990780 non-null float64\n",
      "WindDirDegrees               990780 non-null float64\n",
      "Events_Fog                   990780 non-null uint8\n",
      "Events_Fog-Rain              990780 non-null uint8\n",
      "Events_None                  990780 non-null uint8\n",
      "Events_Rain                  990780 non-null uint8\n",
      "Events_Rain-Thunderstorm     990780 non-null uint8\n",
      "City_Mountain View           990780 non-null uint8\n",
      "City_Palo Alto               990780 non-null uint8\n",
      "City_Redwood City            990780 non-null uint8\n",
      "City_San Francisco           990780 non-null uint8\n",
      "City_San Jose                990780 non-null uint8\n",
      "dtypes: datetime64[ns](1), float64(24), int64(4), uint8(10)\n",
      "memory usage: 236.2 MB\n"
     ]
    }
   ],
   "source": [
    "final_data.info() #No more nulls "
   ]
  },
  {
   "cell_type": "code",
   "execution_count": 413,
   "metadata": {},
   "outputs": [
    {
     "data": {
      "text/html": [
       "<div>\n",
       "<style scoped>\n",
       "    .dataframe tbody tr th:only-of-type {\n",
       "        vertical-align: middle;\n",
       "    }\n",
       "\n",
       "    .dataframe tbody tr th {\n",
       "        vertical-align: top;\n",
       "    }\n",
       "\n",
       "    .dataframe thead th {\n",
       "        text-align: right;\n",
       "    }\n",
       "</style>\n",
       "<table border=\"1\" class=\"dataframe\">\n",
       "  <thead>\n",
       "    <tr style=\"text-align: right;\">\n",
       "      <th></th>\n",
       "      <th>Id</th>\n",
       "      <th>date</th>\n",
       "      <th>day</th>\n",
       "      <th>hour</th>\n",
       "      <th>outgoing_bikes</th>\n",
       "      <th>incoming_bikes</th>\n",
       "      <th>net_chnage</th>\n",
       "      <th>Dock Count</th>\n",
       "      <th>Max TemperatureF</th>\n",
       "      <th>Mean TemperatureF</th>\n",
       "      <th>...</th>\n",
       "      <th>Events_Fog</th>\n",
       "      <th>Events_Fog-Rain</th>\n",
       "      <th>Events_None</th>\n",
       "      <th>Events_Rain</th>\n",
       "      <th>Events_Rain-Thunderstorm</th>\n",
       "      <th>City_Mountain View</th>\n",
       "      <th>City_Palo Alto</th>\n",
       "      <th>City_Redwood City</th>\n",
       "      <th>City_San Francisco</th>\n",
       "      <th>City_San Jose</th>\n",
       "    </tr>\n",
       "  </thead>\n",
       "  <tbody>\n",
       "    <tr>\n",
       "      <th>0</th>\n",
       "      <td>2</td>\n",
       "      <td>2014-01-09</td>\n",
       "      <td>3</td>\n",
       "      <td>12</td>\n",
       "      <td>1.000</td>\n",
       "      <td>0.000</td>\n",
       "      <td>-1.000</td>\n",
       "      <td>27</td>\n",
       "      <td>83.000</td>\n",
       "      <td>70.000</td>\n",
       "      <td>...</td>\n",
       "      <td>0</td>\n",
       "      <td>0</td>\n",
       "      <td>1</td>\n",
       "      <td>0</td>\n",
       "      <td>0</td>\n",
       "      <td>0</td>\n",
       "      <td>0</td>\n",
       "      <td>0</td>\n",
       "      <td>0</td>\n",
       "      <td>1</td>\n",
       "    </tr>\n",
       "    <tr>\n",
       "      <th>1</th>\n",
       "      <td>2</td>\n",
       "      <td>2014-01-09</td>\n",
       "      <td>3</td>\n",
       "      <td>12</td>\n",
       "      <td>1.000</td>\n",
       "      <td>0.000</td>\n",
       "      <td>-1.000</td>\n",
       "      <td>27</td>\n",
       "      <td>89.000</td>\n",
       "      <td>74.000</td>\n",
       "      <td>...</td>\n",
       "      <td>0</td>\n",
       "      <td>0</td>\n",
       "      <td>1</td>\n",
       "      <td>0</td>\n",
       "      <td>0</td>\n",
       "      <td>0</td>\n",
       "      <td>0</td>\n",
       "      <td>0</td>\n",
       "      <td>0</td>\n",
       "      <td>1</td>\n",
       "    </tr>\n",
       "    <tr>\n",
       "      <th>2</th>\n",
       "      <td>2</td>\n",
       "      <td>2014-01-09</td>\n",
       "      <td>3</td>\n",
       "      <td>12</td>\n",
       "      <td>1.000</td>\n",
       "      <td>0.000</td>\n",
       "      <td>-1.000</td>\n",
       "      <td>27</td>\n",
       "      <td>86.000</td>\n",
       "      <td>72.000</td>\n",
       "      <td>...</td>\n",
       "      <td>0</td>\n",
       "      <td>0</td>\n",
       "      <td>1</td>\n",
       "      <td>0</td>\n",
       "      <td>0</td>\n",
       "      <td>0</td>\n",
       "      <td>0</td>\n",
       "      <td>0</td>\n",
       "      <td>0</td>\n",
       "      <td>1</td>\n",
       "    </tr>\n",
       "    <tr>\n",
       "      <th>3</th>\n",
       "      <td>2</td>\n",
       "      <td>2014-01-09</td>\n",
       "      <td>3</td>\n",
       "      <td>12</td>\n",
       "      <td>1.000</td>\n",
       "      <td>0.000</td>\n",
       "      <td>-1.000</td>\n",
       "      <td>27</td>\n",
       "      <td>85.000</td>\n",
       "      <td>73.000</td>\n",
       "      <td>...</td>\n",
       "      <td>0</td>\n",
       "      <td>0</td>\n",
       "      <td>1</td>\n",
       "      <td>0</td>\n",
       "      <td>0</td>\n",
       "      <td>0</td>\n",
       "      <td>0</td>\n",
       "      <td>0</td>\n",
       "      <td>0</td>\n",
       "      <td>1</td>\n",
       "    </tr>\n",
       "    <tr>\n",
       "      <th>4</th>\n",
       "      <td>2</td>\n",
       "      <td>2014-01-09</td>\n",
       "      <td>3</td>\n",
       "      <td>12</td>\n",
       "      <td>1.000</td>\n",
       "      <td>0.000</td>\n",
       "      <td>-1.000</td>\n",
       "      <td>27</td>\n",
       "      <td>86.000</td>\n",
       "      <td>72.000</td>\n",
       "      <td>...</td>\n",
       "      <td>0</td>\n",
       "      <td>0</td>\n",
       "      <td>1</td>\n",
       "      <td>0</td>\n",
       "      <td>0</td>\n",
       "      <td>0</td>\n",
       "      <td>0</td>\n",
       "      <td>0</td>\n",
       "      <td>0</td>\n",
       "      <td>1</td>\n",
       "    </tr>\n",
       "  </tbody>\n",
       "</table>\n",
       "<p>5 rows × 39 columns</p>\n",
       "</div>"
      ],
      "text/plain": [
       "   Id       date  day  hour  outgoing_bikes  incoming_bikes  net_chnage  \\\n",
       "0   2 2014-01-09    3    12           1.000           0.000      -1.000   \n",
       "1   2 2014-01-09    3    12           1.000           0.000      -1.000   \n",
       "2   2 2014-01-09    3    12           1.000           0.000      -1.000   \n",
       "3   2 2014-01-09    3    12           1.000           0.000      -1.000   \n",
       "4   2 2014-01-09    3    12           1.000           0.000      -1.000   \n",
       "\n",
       "   Dock Count  Max TemperatureF  Mean TemperatureF  ...  Events_Fog  \\\n",
       "0          27            83.000             70.000  ...           0   \n",
       "1          27            89.000             74.000  ...           0   \n",
       "2          27            86.000             72.000  ...           0   \n",
       "3          27            85.000             73.000  ...           0   \n",
       "4          27            86.000             72.000  ...           0   \n",
       "\n",
       "   Events_Fog-Rain  Events_None  Events_Rain  Events_Rain-Thunderstorm  \\\n",
       "0                0            1            0                         0   \n",
       "1                0            1            0                         0   \n",
       "2                0            1            0                         0   \n",
       "3                0            1            0                         0   \n",
       "4                0            1            0                         0   \n",
       "\n",
       "   City_Mountain View  City_Palo Alto  City_Redwood City  City_San Francisco  \\\n",
       "0                   0               0                  0                   0   \n",
       "1                   0               0                  0                   0   \n",
       "2                   0               0                  0                   0   \n",
       "3                   0               0                  0                   0   \n",
       "4                   0               0                  0                   0   \n",
       "\n",
       "   City_San Jose  \n",
       "0              1  \n",
       "1              1  \n",
       "2              1  \n",
       "3              1  \n",
       "4              1  \n",
       "\n",
       "[5 rows x 39 columns]"
      ]
     },
     "execution_count": 413,
     "metadata": {},
     "output_type": "execute_result"
    }
   ],
   "source": [
    "final_data.head()"
   ]
  },
  {
   "cell_type": "markdown",
   "metadata": {},
   "source": [
    "# Modelling"
   ]
  },
  {
   "cell_type": "code",
   "execution_count": 348,
   "metadata": {},
   "outputs": [],
   "source": [
    "from sklearn.linear_model import ElasticNet, Lasso,ElasticNetCV,  BayesianRidge, LassoLarsIC\n",
    "from sklearn.ensemble import RandomForestRegressor,  GradientBoostingRegressor\n",
    "from sklearn.kernel_ridge import KernelRidge\n",
    "from sklearn.pipeline import make_pipeline\n",
    "from sklearn.preprocessing import RobustScaler\n",
    "from sklearn.base import BaseEstimator, TransformerMixin, RegressorMixin, clone\n",
    "from sklearn.model_selection import KFold, cross_val_score, train_test_split\n",
    "from sklearn.metrics import mean_squared_error\n"
   ]
  },
  {
   "cell_type": "code",
   "execution_count": 349,
   "metadata": {},
   "outputs": [],
   "source": [
    "#Validation function\n",
    "\n",
    "n_folds = 10\n",
    "def rmse_cv(model, X, y):\n",
    "    kf = KFold(n_splits=n_folds, shuffle=True, random_state=42)\n",
    "    rmse= np.sqrt(-cross_val_score(model, X, y, scoring=\"neg_mean_squared_error\", cv = kf))\n",
    "    return(rmse)"
   ]
  },
  {
   "cell_type": "code",
   "execution_count": 369,
   "metadata": {},
   "outputs": [],
   "source": [
    "y = final_data['net_chnage']\n",
    "X = final_data.drop(['date','outgoing_bikes','incoming_bikes','net_chnage'], axis=1)"
   ]
  },
  {
   "cell_type": "code",
   "execution_count": 370,
   "metadata": {},
   "outputs": [
    {
     "data": {
      "text/plain": [
       "((990780, 35), (990780,))"
      ]
     },
     "execution_count": 370,
     "metadata": {},
     "output_type": "execute_result"
    }
   ],
   "source": [
    "X.shape, y.shape"
   ]
  },
  {
   "cell_type": "code",
   "execution_count": 371,
   "metadata": {},
   "outputs": [
    {
     "name": "stdout",
     "output_type": "stream",
     "text": [
      "Shape of X_train  (792624, 35)\n",
      "Shape of y_train  (792624,)\n",
      "Shape of X_test  (198156, 35)\n",
      "Shape of y_test  (198156,)\n"
     ]
    }
   ],
   "source": [
    "X_train, X_test, y_train, y_test = train_test_split(X, y, test_size=0.2, random_state=42, shuffle=True)\n",
    "#will treat y_train, y_test as completely unseen data\n",
    "\n",
    "print(\"Shape of X_train \",X_train.shape)\n",
    "print(\"Shape of y_train \", y_train.shape)\n",
    "print(\"Shape of X_test \",X_test.shape)\n",
    "print(\"Shape of y_test \", y_test.shape)"
   ]
  },
  {
   "cell_type": "code",
   "execution_count": 392,
   "metadata": {},
   "outputs": [
    {
     "name": "stdout",
     "output_type": "stream",
     "text": [
      "0.033156912662451264\n",
      "0.5\n"
     ]
    }
   ],
   "source": [
    "enetcv = ElasticNetCV(cv=10,  n_alphas=100) # Elasticnet cross validation will choose optimal alpha by performing 10 fold cross validation\n",
    "enetcv.fit(X_train, y_train)\n",
    "print(enetcv.alpha_)\n",
    "print(enetcv.l1_ratio_)"
   ]
  },
  {
   "cell_type": "markdown",
   "metadata": {},
   "source": [
    "## Error of the model"
   ]
  },
  {
   "cell_type": "code",
   "execution_count": 393,
   "metadata": {},
   "outputs": [
    {
     "data": {
      "text/plain": [
       "2.9110007925664965"
      ]
     },
     "execution_count": 393,
     "metadata": {},
     "output_type": "execute_result"
    }
   ],
   "source": [
    "rmse_cv(ElasticNet(alpha=0.033, l1_ratio=.5, random_state=3),X_train ,y_train).mean() "
   ]
  },
  {
   "cell_type": "code",
   "execution_count": 394,
   "metadata": {},
   "outputs": [],
   "source": [
    "coef = pd.Series(enetcv.coef_, index = X_train.columns)"
   ]
  },
  {
   "cell_type": "code",
   "execution_count": 395,
   "metadata": {},
   "outputs": [
    {
     "name": "stdout",
     "output_type": "stream",
     "text": [
      "Enet picked 5 variables and eliminated the other 30 variables\n"
     ]
    }
   ],
   "source": [
    "print(\"Enet picked \" + str(sum(coef != 0)) + \" variables and eliminated the other \" +  str(sum(coef == 0)) + \" variables\")\n"
   ]
  },
  {
   "cell_type": "code",
   "execution_count": 399,
   "metadata": {},
   "outputs": [
    {
     "data": {
      "text/plain": [
       "hour                         0.014\n",
       "Dock Count                   0.006\n",
       "Mean Humidity                0.000\n",
       "City_San Jose               -0.000\n",
       "Min DewpointF                0.000\n",
       "Mean Sea Level PressureIn   -0.000\n",
       "Max Sea Level PressureIn    -0.000\n",
       "Min Humidity                 0.000\n",
       "Max Humidity                 0.000\n",
       "Max Dew PointF               0.000\n",
       "MeanDew PointF               0.000\n",
       "Max VisibilityMiles         -0.000\n",
       "Min TemperatureF            -0.000\n",
       "Mean TemperatureF           -0.000\n",
       "Max TemperatureF            -0.000\n",
       "day                         -0.000\n",
       "Min Sea Level PressureIn     0.000\n",
       "Mean VisibilityMiles        -0.000\n",
       "City_San Francisco           0.000\n",
       "Events_Fog-Rain             -0.000\n",
       "City_Redwood City           -0.000\n",
       "City_Palo Alto               0.000\n",
       "City_Mountain View           0.000\n",
       "Events_Rain-Thunderstorm     0.000\n",
       "Events_Rain                 -0.000\n",
       "Events_None                 -0.000\n",
       "Events_Fog                   0.000\n",
       "Min VisibilityMiles         -0.000\n",
       "CloudCover                   0.000\n",
       "PrecipitationIn              0.000\n",
       "Max Gust SpeedMPH            0.000\n",
       "Mean Wind SpeedMPH          -0.000\n",
       "Max Wind SpeedMPH            0.000\n",
       "WindDirDegrees              -0.000\n",
       "Id                          -0.000\n",
       "dtype: float64"
      ]
     },
     "execution_count": 399,
     "metadata": {},
     "output_type": "execute_result"
    }
   ],
   "source": [
    "coef.sort_values(ascending=False)"
   ]
  },
  {
   "cell_type": "code",
   "execution_count": 404,
   "metadata": {},
   "outputs": [
    {
     "data": {
      "image/png": "[encoded data removed]",
      "text/plain": [
       "<Figure size 576x720 with 1 Axes>"
      ]
     },
     "metadata": {},
     "output_type": "display_data"
    }
   ],
   "source": [
    "preds = pd.DataFrame({\"preds\":enetcv.predict(X_test), \"true\":y_test})\n",
    "preds[\"residuals\"] = preds[\"true\"] - preds[\"preds\"]\n",
    "sns.distplot(preds[\"residuals\"]);\n"
   ]
  },
  {
   "cell_type": "code",
   "execution_count": 411,
   "metadata": {},
   "outputs": [],
   "source": [
    "error_pred = np.sqrt(preds[\"residuals\"]).mean()"
   ]
  },
  {
   "cell_type": "code",
   "execution_count": 412,
   "metadata": {},
   "outputs": [
    {
     "name": "stdout",
     "output_type": "stream",
     "text": [
      "RMSE Error 1.2084073483109852\n"
     ]
    }
   ],
   "source": [
    "print(\"RMSE Error\", error_pred)"
   ]
  },
  {
   "cell_type": "markdown",
   "metadata": {},
   "source": [
    "# Improvements:\n",
    "\n",
    "1. Can try few more feature engineering: include month etc\n",
    "2. More granular level prediction such as on minute\n",
    "\n",
    "3. Try another model such as xgboost\n",
    "4. Regularization seems high in this model, fine tune that\n",
    "\n",
    "# Conclusion\n",
    "\n",
    "Even after data exploration, the final model can be improved. Due to time contraints could not explore it more. "
   ]
  },
  {
   "cell_type": "code",
   "execution_count": null,
   "metadata": {},
   "outputs": [],
   "source": []
  }
 ],
 "metadata": {
  "kernelspec": {
   "display_name": "Python 3",
   "language": "python",
   "name": "python3"
  },
  "language_info": {
   "codemirror_mode": {
    "name": "ipython",
    "version": 3
   },
   "file_extension": ".py",
   "mimetype": "text/x-python",
   "name": "python",
   "nbconvert_exporter": "python",
   "pygments_lexer": "ipython3",
   "version": "3.7.3"
  }
 },
 "nbformat": 4,
 "nbformat_minor": 2
}
